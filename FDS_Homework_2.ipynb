{
	"cells": [
		{
			"cell_type": "markdown",
			"metadata": {
				"id": "qSfK3TzzOeBK",
				"tags": []
			},
			"source": [
				"# **Fundamentals of Data Science - Winter Semester 2022**\n",
				"\n",
				"\n",
				"#### Prof. Fabio Galasso, Leonardo Plini (TA), Luca Scofano (TA), Paolo Mandica (TA)\n",
				"<galasso@di.uniroma1.it>, <plini.2000543@studenti.uniroma1.it> , <scofano@di.uniroma1.it>, <mandica@di.uniroma1.it>\n",
				"\n",
				"## **#2 Homework: Classification**"
			]
		},
		{
			"cell_type": "markdown",
			"metadata": {
				"id": "8UX84kDJ3uF3"
			},
			"source": [
				"\n",
				"-----------------------------------\n",
				"\n",
				"*Note: your task is to fill in the missing code where you see `\"YOUR CODE HERE\"` and the text part `\"WRITE YOUR TEXT HERE\"` part corresponding to each subproblem and produce brief reports on the results whenever necessary.*\n",
				"\n",
				"As part of the homework, provide the answer to questions in this notebook report-like manner. \n",
				"\n",
				"After you have implemented all the missing code in the required sections, you will be able to run all the code without any errors. \n",
				"\n",
				"We kindly ask you to double-check this since **all** the delivered homework will be executed.\n",
				"\n",
				"The completed exercise should be handed in as a single notebook file. Use Markdown to provide equations. Use the code sections to provide your scripts and the corresponding plots.\n",
				"\n",
				"-------------------------------------\n",
				"\n",
				"**Submit it** by sending an email to:\n",
				"\n",
				"**galasso@di.uniroma1.it** , **mandica@di.uniroma1.it**, **scofano@di.uniroma1.it**, and **plini.2000543@studenti.uniroma1.it** **by Monday, November 17th, 23:59**.\n",
				"\n",
				"-------------------------------------"
			]
		},
		{
			"cell_type": "markdown",
			"metadata": {
				"id": "yeZ8ZE6BE3-C"
			},
			"source": [
				"**Outline and Scores for #2 Homework:**\n",
				"\n",
				"\n",
				"* **Question 1: Logistic Resgression and Gradient Ascent** *(10 points)*\n",
				"  * **Question 1.1: Log-likelihood and Gradient ascend rule**\n",
				"  * **Question 1.2: Implementation of logistic regression with Gradient Ascent**\n",
				"  * **Question 1.3: Report**"
			]
		},
		{
			"cell_type": "markdown",
			"metadata": {
				"id": "DCouXHAWE3-D"
			},
			"source": [
				"* **Question 2: Logistic Regression with non linear boundaries** *(7 points)*\n",
				"  * **Question 2.1: Polynomial features for logistic regression**\n",
				"  * **Question 2.2: Plot the computed non-linear boundary**\n",
				"  * **Question 2.3: Report**"
			]
		},
		{
			"cell_type": "markdown",
			"metadata": {
				"id": "Cxm6ygb5E3-D"
			},
			"source": [
				"* **Question 3: Multinomial Classification** *(13 points)*\n",
				"  * **Question 3.1: Softmax Regression Model**\n",
				"  * **Question 3.2: Coding**\n",
				"  * **Question 3.3: Meseaure of Godness**\n",
				"  * **Question 3.4: Report**"
			]
		},
		{
			"cell_type": "markdown",
			"metadata": {
				"id": "LnSlUrAZE3-E"
			},
			"source": [
				"* **BONUS Question 4: Transfer Learning on CIFAR-10** *(5 points)*\n",
				"  * **Question 4.1: Train a KNN Classifier on CIFAR-10**\n",
				"  * **Question 4.2: Train a Softmax Classifier on CIFAR-10**\n",
				"  * **Question 4.3: Report**\n",
				"  \n",
				"\n",
				"**TOTAL POINTS ARE 35, BONUS QUESTION INCLUDED**"
			]
		},
		{
			"cell_type": "markdown",
			"metadata": {
				"id": "_R7KkUpP3uF4"
			},
			"source": [
				"**Notation:**\n",
				"\n",
				"- $x^i$ is the $i^{th}$ feature vector\n",
				"- $y^i$ is the expected outcome for the $i^{th}$ training example\n",
				"- $m$ is the number of training examples\n",
				"- $n$ is the number of features\n",
				"\n",
				"**Let's start by setting up our Python environment and importing the required libraries:**"
			]
		},
		{
			"cell_type": "code",
			"execution_count": 128,
			"metadata": {
				"id": "skGOzNBb3uF4"
			},
			"outputs": [],
			"source": [
				"%matplotlib inline\n",
				"import numpy as np # imports a fast numerical programming library\n",
				"import scipy as sp # imports stats functions, amongst other things\n",
				"import matplotlib as mpl # this actually imports matplotlib\n",
				"import matplotlib.cm as cm # allows us easy access to colormaps\n",
				"import matplotlib.pyplot as plt # sets up plotting under plt\n",
				"import pandas as pd # lets us handle data as dataframes\n",
				"from sklearn.datasets import make_classification\n",
				"import seaborn as sns\n",
				"from tqdm import tqdm\n",
				"\n",
				"# sets up pandas table display\n",
				"pd.set_option('display.width', 500)\n",
				"pd.set_option('display.max_columns', 100)\n",
				"pd.set_option('display.notebook_repr_html', True)\n",
				"\n",
				"import seaborn as sns # sets up styles and gives us more plotting options\n",
				"import math"
			]
		},
		{
			"cell_type": "markdown",
			"metadata": {
				"id": "0G_LPstI3uF6",
				"jp-MarkdownHeadingCollapsed": true,
				"tags": []
			},
			"source": [
				"## **Question 1: Logistic Regression with Gradient Ascent *(10 Points)***"
			]
		},
		{
			"cell_type": "markdown",
			"metadata": {
				"id": "ffcP6hxn3uF7"
			},
			"source": [
				"### **Question 1.1: Log-likelihood and Gradient ascend Rule *(3/10 Points)*** \n",
				"\n",
				"Write the likelihood $L(\\theta)$ and log-likelihood $l(\\theta)$ of the parameters $\\theta$.\n",
				"\n",
				"Recall the probabilistic interpretation of the hypothesis $h_\\theta(x)= P(y=1|x;\\theta)$ and that $h_\\theta(x)=\\frac{1}{1+\\exp(-\\theta^T x)}$.\n",
				"\n",
				"Also derive the gradient $\\frac{\\delta l(\\theta)}{\\delta \\theta_j}$ of $l(\\theta)$ and write the gradient update equation. "
			]
		},
		{
			"cell_type": "markdown",
			"metadata": {
				"id": "MIG1wwln3uF8"
			},
			"source": [
				"-------------------------------------------------------\n",
				"- Write the likelihood $L(\\theta)$ and log-likelihood $l(\\theta)$ of the parameters $\\theta$.\n",
				"(Recall the probabilistic interpretation of the hypothesis $h_\\theta(x)= P(y=1|x;\\theta)$ and that $h_\\theta(x)=\\frac{1}{1+\\exp(-\\theta^T x)}$. )\n",
				"\n",
				"$$\\begin{align}\n",
				"    P(y|x, \\theta) = {h_\\theta(x)^{y}(1-h_\\theta(x))^{1-{y}}}\n",
				"\\end{align}$$\n",
				"\n",
				"$$\\begin{align}\n",
				"    L(\\theta) = P(\\vec{y}| x; \\theta) = \\prod\\limits_{i = 1}^m P(y^{(i)}| x^{(i)}; \\theta) = \\prod\\limits_{i = 1}^m h_{\\theta}(x^{(i)})^{y^{(i)}}\\bigl(1 - h_{\\theta}(x^{(i)})\\bigr)^{1 - y^{(i)}}\n",
				"\\end{align}$$\n",
				"\n",
				"\n",
				"$$\\begin{align}\n",
				"    l(\\theta) = \\log{L(\\theta)} = \\sum\\limits_{i = 1}^m y^{(i)} \\log{\\bigl(h_{\\theta}(x^{(i)}) \\bigr)} + (1 - y^{(i)})\\log{\\bigl(1 - h_{\\theta}(x^{(i)}) \\bigr)}\n",
				"\\end{align}$$\n",
				"\n",
				"- Derive the gradient $\\frac{\\delta l(\\theta)}{\\delta \\theta_j}$ of $l(\\theta)$ and write the gradient update equation. \n",
				"\n",
				"$$\\begin{align}\n",
				"    \\frac{\\delta}{\\delta \\theta_j} l(\\theta) = \\sum_{i=1}^m \\frac{\\partial}{\\partial \\theta_j}  y^{(i)}\\log(h_{\\theta}(x^{(i)}))+ \\frac{\\partial}{\\partial \\theta_j}(1-y^{(i)})\\log(1-h_{\\theta}(x^{(i)})) = \\sum\\limits_{i = 1}^m \\bigl(y^{(i)} - h_{\\theta}(x^{(i)}) \\bigr) x^{(i)}_j\n",
				"\\end{align}$$\n",
				"\n",
				"- Gradient ascent update equation:\n",
				"\n",
				"$$\\begin{align}\n",
				"    \\theta_j = \\theta_j + \\mathbf{\\alpha}\\frac{\\delta}{\\delta \\theta_j} l(\\theta) = \\theta_j + \\mathbf{\\alpha}\\sum\\limits_{i = 1}^m \\bigl(y^{(i)} - h_{\\theta}(x^{(i)}) \\bigr) x^{(i)}_j\n",
				"\\end{align}$$\n",
				"\n",
				"-------------------------------------------------------"
			]
		},
		{
			"cell_type": "markdown",
			"metadata": {
				"id": "rbRCfu6u3uF9"
			},
			"source": [
				"### **Question 1.2: Implementation of logistic regression with Gradient Ascent *(5/10 Points)***\n",
				"\n",
				"Translate the equations you wrote above in code to learn the logistic regression parameters.\n",
				"\n",
				"The dataset used here is created using *make_classification* function present in the *sklearn* library. \n",
				"\n",
				"$x^{(i)}_1$ and $x^{(i)}_2$ represent the two features for the $i$-th data sample $x^{(i)}$ and $y^{(i)}$ is its ground truth label.\n",
				"\n"
			]
		},
		{
			"cell_type": "markdown",
			"metadata": {
				"id": "lLbaTAk9E3-J"
			},
			"source": [
				"\n",
				"**Do not write below this line just run it**\n",
				"\n",
				"--------------------------------------------"
			]
		},
		{
			"cell_type": "code",
			"execution_count": 129,
			"metadata": {
				"colab": {
					"base_uri": "https://localhost:8080/"
				},
				"id": "NsEG77nM3uF9",
				"outputId": "a9dc0e1c-9301-4ead-faad-9e729a9c1b28"
			},
			"outputs": [
				{
					"data": {
						"text/plain": [
							"((500, 2), (500,))"
						]
					},
					"execution_count": 129,
					"metadata": {},
					"output_type": "execute_result"
				}
			],
			"source": [
				"X, y = make_classification(n_samples=500, n_features=2, n_informative=2, n_redundant=0, n_classes=2, random_state=5)\n",
				"X.shape, y.shape"
			]
		},
		{
			"cell_type": "code",
			"execution_count": 130,
			"metadata": {
				"colab": {
					"base_uri": "https://localhost:8080/",
					"height": 265
				},
				"id": "fkPYkGon3uF-",
				"outputId": "ec8580f3-0019-4bb6-efa1-09c0850e5045"
			},
			"outputs": [
				{
					"data": {
						"image/png": "[encoded data removed]",
						"text/plain": [
							"<Figure size 640x480 with 1 Axes>"
						]
					},
					"metadata": {},
					"output_type": "display_data"
				}
			],
			"source": [
				"sns.scatterplot(x=X[:,0], y=X[:,1], hue=y);"
			]
		},
		{
			"cell_type": "markdown",
			"metadata": {
				"id": "mE7FtQnL3uF-"
			},
			"source": [
				"Adding a column of 1's to $X$ to take into account the zero intercept"
			]
		},
		{
			"cell_type": "code",
			"execution_count": 131,
			"metadata": {
				"id": "ukkMolWr3uF_"
			},
			"outputs": [],
			"source": [
				"x = np.hstack([np.ones((X.shape[0], 1)), X])"
			]
		},
		{
			"cell_type": "code",
			"execution_count": 132,
			"metadata": {
				"colab": {
					"base_uri": "https://localhost:8080/"
				},
				"id": "M5XKPVYh3uF_",
				"outputId": "866c2c97-3c0f-406e-c1b8-b69452705ce5"
			},
			"outputs": [
				{
					"data": {
						"text/plain": [
							"[array([[ 1.        ,  2.25698215, -1.34710915],\n",
							"        [ 1.        ,  1.43699308,  1.28420453],\n",
							"        [ 1.        ,  0.57927295,  0.23690172],\n",
							"        [ 1.        ,  0.42538132, -0.24611145],\n",
							"        [ 1.        ,  1.13485101, -0.61162683]]),\n",
							" array([[ 1.        ,  1.56638944,  0.81749944],\n",
							"        [ 1.        , -1.94913831, -1.90601147],\n",
							"        [ 1.        ,  1.53440506, -0.11687238],\n",
							"        [ 1.        , -0.39243599,  1.39209018],\n",
							"        [ 1.        , -0.11881249,  0.96973739]])]"
						]
					},
					"execution_count": 132,
					"metadata": {},
					"output_type": "execute_result"
				}
			],
			"source": [
				"[x[:5,:],x[-5:,:]] # Plot the first and last 5 lines of x, now containing features x0 (constant=1), x1 and x2"
			]
		},
		{
			"cell_type": "code",
			"execution_count": 133,
			"metadata": {
				"colab": {
					"base_uri": "https://localhost:8080/"
				},
				"id": "tA2GpW7D3uF_",
				"outputId": "5cb70cf2-8f78-4449-f92c-99c81aa38da1"
			},
			"outputs": [
				{
					"data": {
						"text/plain": [
							"[array([1, 1, 1, 0, 1]), array([1, 0, 0, 0, 1])]"
						]
					},
					"execution_count": 133,
					"metadata": {},
					"output_type": "execute_result"
				}
			],
			"source": [
				"[y[:5],y[-5:]] # Plot the first and last 5 lines of y"
			]
		},
		{
			"cell_type": "markdown",
			"metadata": {
				"id": "4N20uGxT3uGA"
			},
			"source": [
				"Define the sigmoid function **sigmoid**, the function to compute the gradient of the log likelihood  **grad_l** and the gradient ascent algorithm."
			]
		},
		{
			"cell_type": "markdown",
			"metadata": {
				"id": "atwd2qBN3uGA"
			},
			"source": [
				"\n",
				"**Write your code below this line**\n",
				"\n",
				"--------------------------------------------"
			]
		},
		{
			"cell_type": "code",
			"execution_count": 134,
			"metadata": {
				"id": "ZhlHmIHI3uGA"
			},
			"outputs": [],
			"source": [
				"def sigmoid(x):\n",
				"    '''\n",
				"    Function to compute the sigmoid of a given input x.\n",
				"    \n",
				"    Input:\n",
				"    x: it's the input data matrix. The shape is (N, H)\n",
				"\n",
				"    Output:\n",
				"    g: The sigmoid of the input x\n",
				"    '''\n",
				"    return 1/(1+np.exp(-x))\n",
				"\n",
				"def log_likelihood(theta,features,target):\n",
				"    '''\n",
				"    Function to compute the log likehood of theta according to data x and label y\n",
				"\n",
				"    Input:\n",
				"    theta: it's the model parameter matrix.\n",
				"    features: it's the input data matrix. The shape is (N, H)\n",
				"    target: the label array\n",
				"    \n",
				"    Output:\n",
				"    log_g: the log likehood of theta according to data x and label y\n",
				"    '''\n",
				"    N = features.shape[0]\n",
				"    h_theta = predictions(features, theta)\n",
				"\n",
				"    # log-likelihood formula (see Question 1.1)\n",
				"    log_l = np.sum(target*np.log(h_theta)+(1-target)*np.log(1-h_theta))\n",
				"\n",
				"    return log_l/N\n",
				"\n",
				"def predictions(features, theta):\n",
				"    '''\n",
				"    Function to compute the predictions for the input features\n",
				"    \n",
				"    Input:\n",
				"    theta: it's the model parameter matrix.\n",
				"    features: it's the input data matrix. The shape is (N, H)\n",
				"    \n",
				"    Output:\n",
				"    preds: the predictions of the input features\n",
				"    '''\n",
				"    # compute the predictions for the input features (function h_theta(X))\n",
				"    return sigmoid(theta.dot(features.T))\n",
				"\n",
				"def update_theta(theta, target, preds, features, lr):\n",
				"    '''\n",
				"    Function to compute the gradient of the log likelihood\n",
				"    and then return the updated weights\n",
				"\n",
				"    Input:\n",
				"    theta: the model parameter matrix.\n",
				"    target: the label array\n",
				"    preds: the predictions of the input features\n",
				"    features: it's the input data matrix. The shape is (N, H)\n",
				"    lr: the learning rate\n",
				"    \n",
				"    Output:\n",
				"    theta: the updated model parameter matrix.\n",
				"    '''\n",
				"    # derive the gradient of log-likelihood (see Question 1.1) \n",
				"    der_likelihood = np.sum((target - preds)[:,np.newaxis] * features, axis=0)\n",
				"    theta += lr * der_likelihood / preds.shape\n",
				"    \n",
				"    return theta \n",
				"\n",
				"def gradient_ascent(theta, features, target, lr, num_steps):\n",
				"    '''\n",
				"    Function to execute the gradient ascent algorithm\n",
				"\n",
				"    Input:\n",
				"    theta: the model parameter matrix.\n",
				"    target: the label array\n",
				"    num_steps: the number of iterations \n",
				"    features: the input data matrix. The shape is (N, H)\n",
				"    lr: the learning rate\n",
				"    \n",
				"    Output:\n",
				"    theta: the final model parameter matrix.\n",
				"    log_likelihood_history: the values of the log likelihood during the process\n",
				"    '''\n",
				"    log_likelihood_history = np.zeros(num_steps)\n",
				"\n",
				"    for step in range(num_steps):\n",
				"        # store the log_likelihood value\n",
				"        log_likelihood_history[step] = log_likelihood(theta, features, target)\n",
				"        preds = predictions(features, theta)\n",
				"\n",
				"        #update theta to do the gradient ascent \n",
				"        theta = update_theta(theta, target, preds, features, lr)\n",
				"\n",
				"    return theta, log_likelihood_history"
			]
		},
		{
			"cell_type": "markdown",
			"metadata": {
				"id": "dExh39gt3uGA"
			},
			"source": [
				"\n",
				"**Do not write below this line just run it**\n",
				"\n",
				"--------------------------------------------"
			]
		},
		{
			"cell_type": "markdown",
			"metadata": {
				"id": "c2q2DZXF3uGB"
			},
			"source": [
				"**Check your grad_l implementation:**\n",
				"\n",
				"grad_l applied to the theta_test (defined below) should provide a value for log_l_test close to the target_value (defined below) *(in other words the error_test should be 0, up to machine error precision.)*"
			]
		},
		{
			"cell_type": "code",
			"execution_count": 135,
			"metadata": {
				"colab": {
					"base_uri": "https://localhost:8080/"
				},
				"id": "h3UT5wav3uGB",
				"outputId": "e71fbb2c-8abf-4cf8-e927-23fef4a95dde"
			},
			"outputs": [
				{
					"name": "stdout",
					"output_type": "stream",
					"text": [
						"0.000000\n"
					]
				}
			],
			"source": [
				"target_value = -1.630501731599431\n",
				"\n",
				"output_test  = log_likelihood(np.array([-7,4,1]),x,y)\n",
				"error_test=np.abs(output_test-target_value)\n",
				"\n",
				"print(\"{:f}\".format(error_test))"
			]
		},
		{
			"cell_type": "markdown",
			"metadata": {
				"id": "55mr8J5d3uGB"
			},
			"source": [
				"Let's apply the function gradient_ascent and print the final theta as well as theta_history:"
			]
		},
		{
			"cell_type": "code",
			"execution_count": 136,
			"metadata": {
				"colab": {
					"base_uri": "https://localhost:8080/"
				},
				"id": "ajh8uvxR3uGB",
				"outputId": "a3ea1017-fd6e-4e2c-83bb-e337cc9b2ef0"
			},
			"outputs": [
				{
					"name": "stdout",
					"output_type": "stream",
					"text": [
						"[-0.46097042  2.90036399  0.23146846]\n"
					]
				}
			],
			"source": [
				"# Initialize theta0\n",
				"theta0 = np.zeros(x.shape[1])\n",
				"\n",
				"# Run Gradient Ascent method\n",
				"n_iter=1000\n",
				"theta_final, log_l_history = gradient_ascent(theta0,x,y,lr=0.5,num_steps=n_iter)\n",
				"print(theta_final)\n"
			]
		},
		{
			"cell_type": "markdown",
			"metadata": {
				"id": "MusdHuGZ3uGC"
			},
			"source": [
				"Let's plot the log likelihood over different iterations:\n"
			]
		},
		{
			"cell_type": "code",
			"execution_count": 137,
			"metadata": {
				"colab": {
					"base_uri": "https://localhost:8080/",
					"height": 279
				},
				"id": "5BFYiF543uGC",
				"outputId": "7cf633f9-3c86-472f-9954-350acc5a5fb3"
			},
			"outputs": [
				{
					"data": {
						"image/png": "[encoded data removed]",
						"text/plain": [
							"<Figure size 640x480 with 1 Axes>"
						]
					},
					"metadata": {},
					"output_type": "display_data"
				}
			],
			"source": [
				"fig,ax = plt.subplots(num=2)\n",
				"\n",
				"ax.set_ylabel('l(Theta)')\n",
				"ax.set_xlabel('Iterations')\n",
				"_=ax.plot(range(len(log_l_history)),log_l_history,'b.')"
			]
		},
		{
			"cell_type": "markdown",
			"metadata": {
				"id": "pYd890o33uGC"
			},
			"source": [
				"Plot the data and the decision boundary:"
			]
		},
		{
			"cell_type": "code",
			"execution_count": 138,
			"metadata": {
				"colab": {
					"base_uri": "https://localhost:8080/",
					"height": 265
				},
				"id": "0hXJewP13uGC",
				"outputId": "7f4dea7b-0062-4460-b789-223257864ad7"
			},
			"outputs": [
				{
					"data": {
						"image/png": "[encoded data removed]",
						"text/plain": [
							"<Figure size 640x480 with 1 Axes>"
						]
					},
					"metadata": {},
					"output_type": "display_data"
				}
			],
			"source": [
				"# Generate vector to plot decision boundary\n",
				"x1_vec = np.linspace(X[:,0].min(),X[:,1].max(),2)\n",
				"\n",
				"# Plot raw data\n",
				"sns.scatterplot(x=X[:,0], y=X[:,1], hue=y, data=X)\n",
				"\n",
				"# Plot decision boundary\n",
				"plt.plot(x1_vec,(-x1_vec*theta_final[1]-theta_final[0])/theta_final[2], color=\"red\")\n",
				"plt.ylim(X[:,1].min()-1,X[:,1].max()+1)\n",
				"# Save the theta_final value for later comparisons\n",
				"theta_GA = theta_final.copy()"
			]
		},
		{
			"cell_type": "markdown",
			"metadata": {
				"id": "FgyCuwL3E3-P"
			},
			"source": [
				"### **Question 1.3: Report *(2/10 Points)***"
			]
		},
		{
			"cell_type": "markdown",
			"metadata": {
				"id": "YyHpS-us3uGD"
			},
			"source": [
				"1. Are we looking for a local minimum or a local maximum using the gradient ascent rule? \n",
				"2. You have implemented the gradient ascent rule. Could we have also used gradient descent instead for the proposed problem? Why/Why not?\n",
				"3. Let's deeply analyze how the learning rate $\\alpha$ and the number of iterations affect the final results. Run the algorithm you have written for different values of $\\alpha$ and the number of iterations and look at the outputs you get. Is the decision boundary influenced by these parameters change? Why do you think these parameters are affecting/not affecting the results? "
			]
		},
		{
			"cell_type": "markdown",
			"metadata": {
				"id": "4tHm2tj5E3-P"
			},
			"source": [
				"-------------------------------------------------------\n",
				"**WRITE YOUR ANSWER HERE:**\n",
				"\n",
				"1. With the Gradient Ascent rule we are looking for the local maximum of a function.\n",
				"\n",
				"2. We could have also used the Gradient Descent instead of the Gradient Ascent. In fact, we use Gradient Descent when we are looking for the local minimum of a function, in order to find the maximum of a function f we could apply the Gradient Descent to the function -f.\n",
				"\n",
				"3. The decision boundary can be influenced by the different values taken by alpha and by the number of iterations. "
			]
		},
		{
			"cell_type": "code",
			"execution_count": 62,
			"metadata": {},
			"outputs": [
				{
					"ename": "ValueError",
					"evalue": "operands could not be broadcast together with shapes (300,) (500,) ",
					"output_type": "error",
					"traceback": [
						"\u001b[0;31m---------------------------------------------------------------------------\u001b[0m",
						"\u001b[0;31mValueError\u001b[0m                                Traceback (most recent call last)",
						"\u001b[1;32m/Users/dov/dovsync/Documenti Universita/Fundamentals of Data Science/FDS_assignment_2/FDS_Homework_2.ipynb Cell 35\u001b[0m in \u001b[0;36m<cell line: 9>\u001b[0;34m()\u001b[0m\n\u001b[1;32m     <a href='vscode-notebook-cell:/Users/dov/dovsync/Documenti%20Universita/Fundamentals%20of%20Data%20Science/FDS_assignment_2/FDS_Homework_2.ipynb#Z1335sZmlsZQ%3D%3D?line=17'>18</a>\u001b[0m theta0 \u001b[39m=\u001b[39m np\u001b[39m.\u001b[39mzeros(x\u001b[39m.\u001b[39mshape[\u001b[39m1\u001b[39m])  \n\u001b[1;32m     <a href='vscode-notebook-cell:/Users/dov/dovsync/Documenti%20Universita/Fundamentals%20of%20Data%20Science/FDS_assignment_2/FDS_Homework_2.ipynb#Z1335sZmlsZQ%3D%3D?line=19'>20</a>\u001b[0m \u001b[39m# Run Gradient Ascent method\u001b[39;00m\n\u001b[0;32m---> <a href='vscode-notebook-cell:/Users/dov/dovsync/Documenti%20Universita/Fundamentals%20of%20Data%20Science/FDS_assignment_2/FDS_Homework_2.ipynb#Z1335sZmlsZQ%3D%3D?line=20'>21</a>\u001b[0m theta_final, log_l_history \u001b[39m=\u001b[39m gradient_ascent(theta0,x,y,lr\u001b[39m=\u001b[39;49ml_rate,num_steps\u001b[39m=\u001b[39;49mn_iter)\n\u001b[1;32m     <a href='vscode-notebook-cell:/Users/dov/dovsync/Documenti%20Universita/Fundamentals%20of%20Data%20Science/FDS_assignment_2/FDS_Homework_2.ipynb#Z1335sZmlsZQ%3D%3D?line=22'>23</a>\u001b[0m \u001b[39m# Plot decision boundary\u001b[39;00m\n\u001b[1;32m     <a href='vscode-notebook-cell:/Users/dov/dovsync/Documenti%20Universita/Fundamentals%20of%20Data%20Science/FDS_assignment_2/FDS_Homework_2.ipynb#Z1335sZmlsZQ%3D%3D?line=23'>24</a>\u001b[0m plt\u001b[39m.\u001b[39mplot(x1_vec,(\u001b[39m-\u001b[39mx1_vec\u001b[39m*\u001b[39mtheta_final[\u001b[39m1\u001b[39m]\u001b[39m-\u001b[39mtheta_final[\u001b[39m0\u001b[39m])\u001b[39m/\u001b[39mtheta_final[\u001b[39m2\u001b[39m], label\u001b[39m=\u001b[39m\u001b[39mf\u001b[39m\u001b[39m'\u001b[39m\u001b[39mn_iter=\u001b[39m\u001b[39m{\u001b[39;00mn_iter\u001b[39m}\u001b[39;00m\u001b[39m'\u001b[39m, color\u001b[39m=\u001b[39m\u001b[39m'\u001b[39m\u001b[39mred\u001b[39m\u001b[39m'\u001b[39m)\n",
						"\u001b[1;32m/Users/dov/dovsync/Documenti Universita/Fundamentals of Data Science/FDS_assignment_2/FDS_Homework_2.ipynb Cell 35\u001b[0m in \u001b[0;36mgradient_ascent\u001b[0;34m(theta, features, target, lr, num_steps)\u001b[0m\n\u001b[1;32m     <a href='vscode-notebook-cell:/Users/dov/dovsync/Documenti%20Universita/Fundamentals%20of%20Data%20Science/FDS_assignment_2/FDS_Homework_2.ipynb#Z1335sZmlsZQ%3D%3D?line=86'>87</a>\u001b[0m log_likelihood_history \u001b[39m=\u001b[39m np\u001b[39m.\u001b[39mzeros(num_steps)\n\u001b[1;32m     <a href='vscode-notebook-cell:/Users/dov/dovsync/Documenti%20Universita/Fundamentals%20of%20Data%20Science/FDS_assignment_2/FDS_Homework_2.ipynb#Z1335sZmlsZQ%3D%3D?line=88'>89</a>\u001b[0m \u001b[39mfor\u001b[39;00m step \u001b[39min\u001b[39;00m \u001b[39mrange\u001b[39m(num_steps):\n\u001b[1;32m     <a href='vscode-notebook-cell:/Users/dov/dovsync/Documenti%20Universita/Fundamentals%20of%20Data%20Science/FDS_assignment_2/FDS_Homework_2.ipynb#Z1335sZmlsZQ%3D%3D?line=89'>90</a>\u001b[0m     \u001b[39m# store the log_likelihood value\u001b[39;00m\n\u001b[0;32m---> <a href='vscode-notebook-cell:/Users/dov/dovsync/Documenti%20Universita/Fundamentals%20of%20Data%20Science/FDS_assignment_2/FDS_Homework_2.ipynb#Z1335sZmlsZQ%3D%3D?line=90'>91</a>\u001b[0m     log_likelihood_history[step] \u001b[39m=\u001b[39m log_likelihood(theta, features, target)\n\u001b[1;32m     <a href='vscode-notebook-cell:/Users/dov/dovsync/Documenti%20Universita/Fundamentals%20of%20Data%20Science/FDS_assignment_2/FDS_Homework_2.ipynb#Z1335sZmlsZQ%3D%3D?line=91'>92</a>\u001b[0m     preds \u001b[39m=\u001b[39m predictions(features, theta)\n\u001b[1;32m     <a href='vscode-notebook-cell:/Users/dov/dovsync/Documenti%20Universita/Fundamentals%20of%20Data%20Science/FDS_assignment_2/FDS_Homework_2.ipynb#Z1335sZmlsZQ%3D%3D?line=93'>94</a>\u001b[0m     \u001b[39m#update theta to do the gradient ascent \u001b[39;00m\n",
						"\u001b[1;32m/Users/dov/dovsync/Documenti Universita/Fundamentals of Data Science/FDS_assignment_2/FDS_Homework_2.ipynb Cell 35\u001b[0m in \u001b[0;36mlog_likelihood\u001b[0;34m(theta, features, target)\u001b[0m\n\u001b[1;32m     <a href='vscode-notebook-cell:/Users/dov/dovsync/Documenti%20Universita/Fundamentals%20of%20Data%20Science/FDS_assignment_2/FDS_Homework_2.ipynb#Z1335sZmlsZQ%3D%3D?line=29'>30</a>\u001b[0m eps \u001b[39m=\u001b[39m np\u001b[39m.\u001b[39mnextafter(\u001b[39m0\u001b[39m,\u001b[39m1\u001b[39m)\n\u001b[1;32m     <a href='vscode-notebook-cell:/Users/dov/dovsync/Documenti%20Universita/Fundamentals%20of%20Data%20Science/FDS_assignment_2/FDS_Homework_2.ipynb#Z1335sZmlsZQ%3D%3D?line=31'>32</a>\u001b[0m \u001b[39m# log-likelihood formula (see Question 1.1)\u001b[39;00m\n\u001b[0;32m---> <a href='vscode-notebook-cell:/Users/dov/dovsync/Documenti%20Universita/Fundamentals%20of%20Data%20Science/FDS_assignment_2/FDS_Homework_2.ipynb#Z1335sZmlsZQ%3D%3D?line=32'>33</a>\u001b[0m log_l \u001b[39m=\u001b[39m np\u001b[39m.\u001b[39msum(target\u001b[39m*\u001b[39;49mnp\u001b[39m.\u001b[39;49mlog(h_theta)\u001b[39m+\u001b[39m(\u001b[39m1\u001b[39m\u001b[39m-\u001b[39mtarget)\u001b[39m*\u001b[39mnp\u001b[39m.\u001b[39mlog(\u001b[39m1\u001b[39m\u001b[39m-\u001b[39mh_theta))\n\u001b[1;32m     <a href='vscode-notebook-cell:/Users/dov/dovsync/Documenti%20Universita/Fundamentals%20of%20Data%20Science/FDS_assignment_2/FDS_Homework_2.ipynb#Z1335sZmlsZQ%3D%3D?line=34'>35</a>\u001b[0m \u001b[39mreturn\u001b[39;00m log_l\u001b[39m/\u001b[39mN\n",
						"\u001b[0;31mValueError\u001b[0m: operands could not be broadcast together with shapes (300,) (500,) "
					]
				},
				{
					"data": {
						"image/png": "[encoded data removed]",
						"text/plain": [
							"<Figure size 2000x1500 with 1 Axes>"
						]
					},
					"metadata": {},
					"output_type": "display_data"
				}
			],
			"source": [
				"# Generate vector to plot decision boundary\n",
				"x1_vec = np.linspace(X[:,0].min(),X[:,1].max(),2)\n",
				"\n",
				"l_rates = [0.001, 0.01, 0.1, 1]\n",
				"n_iters = [100, 1000, 5000, 10000]\n",
				"\n",
				"fig = plt.figure(figsize=(20,15))\n",
				"\n",
				"for i, l_rate in enumerate(l_rates):\n",
				"    for j, n_iter in enumerate(n_iters):\n",
				"        plt.subplot(len(l_rates), len(n_iters), i*(len(n_iters))+j+1)\n",
				"        \n",
				"        # Plot raw data\n",
				"        sns.scatterplot(x=X[:,0], y=X[:,1], hue=y, legend=False)\n",
				"        plt.title(f'l_rates = {l_rate} n_iter = {n_iter}')\n",
				"        \n",
				"        # Initialize theta0\n",
				"        theta0 = np.zeros(x.shape[1])  \n",
				"\n",
				"        # Run Gradient Ascent method\n",
				"        theta_final, log_l_history = gradient_ascent(theta0,x,y,lr=l_rate,num_steps=n_iter)\n",
				"\n",
				"        # Plot decision boundary\n",
				"        plt.plot(x1_vec,(-x1_vec*theta_final[1]-theta_final[0])/theta_final[2], label=f'n_iter={n_iter}', color='red')\n",
				"        plt.legend()\n",
				"        plt.ylim(X[:,1].min()-1,X[:,1].max()+1)"
			]
		},
		{
			"cell_type": "markdown",
			"metadata": {},
			"source": [
				"How we can see, the smaller the learning rate is, the smaller the steps are in the gradient ascent and consequently it will take longer to execute.\n",
				"On the other hand, the bigger the learning rate is, the bigger are the steps and it will take less time to execute.\n",
				"Despite using a small learning rate it will take longer but we will be sure that it will converge to a local maximum in the log-likelihood function, while using bigger learning rates will take less time but we won’t be sure if it will converge or not to a local maximum. \n",
				"Furthermore, the number of iterations is very important because with smaller rates we will need more iterations and with bigger rates we will need less iterations, for this the number of iterations must be balanced to obtain an optimal result.\n",
				"\n",
				"\n",
				"-------------------------------------------------------"
			]
		},
		{
			"cell_type": "markdown",
			"metadata": {
				"id": "vbdZNYCl3uGD",
				"jp-MarkdownHeadingCollapsed": true,
				"tags": []
			},
			"source": [
				"## **Question 2: Logistic Regression with non linear boundaries *(7 points)***"
			]
		},
		{
			"cell_type": "markdown",
			"metadata": {
				"id": "TrcB4LXw3uGD",
				"tags": []
			},
			"source": [
				"### **Question 2.1: Polynomial features for logistic regression *(4/7 Points)*** \n",
				"\n",
				"Define new features, e.g. of 2nd and 3rd degrees, and learn a logistic regression classifier by using the new features, ans the gradient ascent optimization algorithm defined in Question 1."
			]
		},
		{
			"cell_type": "markdown",
			"metadata": {
				"id": "oSiX-ia_3uGD"
			},
			"source": [
				"In particular, consider a polynomial boundary with equation:\n",
				"\n",
				"$f(x_1, x_2) = c_0 + c_1 x_1 + c_2 x_2 + c_3 x_1^2 + c_4 x_2^2 + c_5 x_1 x_2 + c_6 x_1^3 + c_7 x_2^3 + c_8 x_1^2 x_2 + c_9 x_1 x_2^2$\n",
				"\n",
				"Therefore compute 7 new features: 3 new ones for the quadratic terms and 4 new ones for the cubic terms.\n",
				"\n",
				"Create new arrays by stacking x and the new 7 features (in the order $x_1x_1, x_2x_2, x_1x_2, x_1x_1x_1, x_2x_2x_2, x_1x_1x_2, x_1x_2x_2$). In particular create *x_new_quad* by additionally stacking with x the quadratic features, and *x_new_cubic* by additionally stacking with x the quadratic and the cubic features."
			]
		},
		{
			"cell_type": "markdown",
			"metadata": {
				"id": "qhBw5_VRE3-Q"
			},
			"source": [
				"**Do not write below this line just run it**\n",
				"\n",
				"--------------------------------------------"
			]
		},
		{
			"cell_type": "code",
			"execution_count": 15,
			"metadata": {
				"colab": {
					"base_uri": "https://localhost:8080/"
				},
				"id": "hXn0rvSM3uGD",
				"outputId": "09a90b76-0b2e-4b6c-c75f-8df4dd673954"
			},
			"outputs": [
				{
					"data": {
						"text/plain": [
							"((500, 2), (500,))"
						]
					},
					"execution_count": 15,
					"metadata": {},
					"output_type": "execute_result"
				}
			],
			"source": [
				"from sklearn.datasets import make_classification\n",
				"\n",
				"X, y = make_classification(n_samples=500, n_features=2, n_informative=2, n_redundant=0, n_classes=2, random_state=5)\n",
				"X.shape, y.shape"
			]
		},
		{
			"cell_type": "code",
			"execution_count": 16,
			"metadata": {
				"id": "2X5n8Ohk3uGE"
			},
			"outputs": [],
			"source": [
				"x = np.hstack([np.ones((X.shape[0], 1)), X])"
			]
		},
		{
			"cell_type": "code",
			"execution_count": 17,
			"metadata": {
				"colab": {
					"base_uri": "https://localhost:8080/",
					"height": 265
				},
				"id": "OgY98L-13uGE",
				"outputId": "b4de10c8-9f01-4462-cd9a-a0bf13b3540a"
			},
			"outputs": [
				{
					"data": {
						"image/png": "[encoded data removed]",
						"text/plain": [
							"<Figure size 640x480 with 1 Axes>"
						]
					},
					"metadata": {},
					"output_type": "display_data"
				}
			],
			"source": [
				"import seaborn as sns\n",
				"import matplotlib.pyplot as plt\n",
				"sns.scatterplot(x=X[:,0], y=X[:,1], hue=y);"
			]
		},
		{
			"cell_type": "code",
			"execution_count": 18,
			"metadata": {
				"colab": {
					"base_uri": "https://localhost:8080/"
				},
				"id": "EanyUrtr3uGE",
				"outputId": "9cb690d8-4ce1-4d84-a4c0-f1a1a185bf8f"
			},
			"outputs": [
				{
					"name": "stdout",
					"output_type": "stream",
					"text": [
						"[[ 1.          2.25698215 -1.34710915]\n",
						" [ 1.          1.43699308  1.28420453]\n",
						" [ 1.          0.57927295  0.23690172]\n",
						" [ 1.          0.42538132 -0.24611145]\n",
						" [ 1.          1.13485101 -0.61162683]]\n",
						"[[2.25698215]\n",
						" [1.43699308]\n",
						" [0.57927295]\n",
						" [0.42538132]\n",
						" [1.13485101]]\n",
						"[[-1.34710915]\n",
						" [ 1.28420453]\n",
						" [ 0.23690172]\n",
						" [-0.24611145]\n",
						" [-0.61162683]]\n"
					]
				}
			],
			"source": [
				"# First extract features x1 and x2 from x and reshape them to x1 vector arrays\n",
				"x1 = x[:,1]\n",
				"x2 = x[:,2]\n",
				"x1 = x1.reshape(x1.shape[0], 1)\n",
				"x2 = x2.reshape(x2.shape[0], 1)\n",
				"print(x[:5,:]) # For visualization of the first 5 values\n",
				"print(x1[:5,:]) # For visualization of the first 5 values\n",
				"print(x2[:5,:]) # For visualization of the first 5 values"
			]
		},
		{
			"cell_type": "markdown",
			"metadata": {
				"id": "nv_yctWU3uGF"
			},
			"source": [
				"--------------------------------------------\n",
				"**Write your code below this line**\n",
				"\n",
				"--------------------------------------------"
			]
		},
		{
			"cell_type": "code",
			"execution_count": 19,
			"metadata": {
				"id": "zicVdhc73uGF"
			},
			"outputs": [],
			"source": [
				"def new_features(x, degree=2):\n",
				"    '''\n",
				"    Function to create n-degree features from the input \n",
				"\n",
				"    Input:\n",
				"    x: the initial features\n",
				"    degree: the maximum degree you wantthe features\n",
				"    \n",
				"    Output:\n",
				"    features: the final features. \n",
				"              2nd degree features must have the order [x, x1x1, x1x2, x2x2]\n",
				"              2nd degree features must have the order [x, x1x1, x1x2, x2x2, x1x1x1, x1x1x2, x1x2x2, x2x2x2]\n",
				"    '''\n",
				"    #We increase the dimension of the \"features\" vector in order to include a sequence of feature value for each\n",
				"    #sample (and not only x0=1)\n",
				"    features = np.ones(x[:,1].shape[0])\n",
				"    features = features[:, np.newaxis]\n",
				"    \n",
				"    #We compute the new feature values and add it to the \"features\" vector depending on the degree (noticing that\n",
				"    #each feature vector of degree i includes the feature vector of degree i-1)\n",
				"    if degree >= 1:\n",
				"        features = np.append(features, x1, axis=1) \n",
				"        features = np.append(features, x2, axis=1)\n",
				"    if degree >= 2:\n",
				"        features = np.append(features, np.power(x1, 2), axis=1)\n",
				"        features = np.append(features, np.multiply(x1, x2), axis=1)\n",
				"        features = np.append(features, np.power(x2, 2), axis=1)\n",
				"    if degree >= 3:\n",
				"        features = np.append(features, np.power(x1, 3), axis=1)\n",
				"        features = np.append(features, np.multiply(np.power(x1, 2), x2), axis=1)\n",
				"        features = np.append(features, np.multiply(x1, np.power(x2, 2)), axis=1)\n",
				"        features = np.append(features, np.power(x2, 3), axis=1)\n",
				"    return features\n"
			]
		},
		{
			"cell_type": "markdown",
			"metadata": {
				"id": "vzyJ450Z3uGF"
			},
			"source": [
				"\n",
				"**Do not write below this line just run it**\n",
				"\n",
				"--------------------------------------------"
			]
		},
		{
			"cell_type": "code",
			"execution_count": 20,
			"metadata": {
				"id": "D7pukmkA3uGF"
			},
			"outputs": [],
			"source": [
				"x_new_quad = new_features(x, degree=2)\n",
				"x_new_cubic = new_features(x, degree=3)\n",
				"\n",
				"#reordering output features\n",
				"temp = np.copy(x_new_quad[:, -1])\n",
				"x_new_quad[:, -1] = x_new_quad[:, -2]\n",
				"x_new_quad[:, -2] = temp\n",
				"\n",
				"temp = np.copy(x_new_cubic[:, -1])\n",
				"x_new_cubic[:, -1] = x_new_cubic[:, -2]\n",
				"x_new_cubic[:, -2] = x_new_cubic[:, -3]\n",
				"x_new_cubic[:, -3] = temp\n"
			]
		},
		{
			"cell_type": "markdown",
			"metadata": {
				"id": "iFlwv5JY3uGF"
			},
			"source": [
				"Now use the gradient ascent optimization algorithm to learn theta by maximizing the log-likelihood, both for the case of x_new_quad and x_new_cubic."
			]
		},
		{
			"cell_type": "code",
			"execution_count": 21,
			"metadata": {
				"colab": {
					"base_uri": "https://localhost:8080/"
				},
				"id": "jFTkk32y3uGF",
				"outputId": "1177abc2-7d88-423e-f7c6-07e29293abfa"
			},
			"outputs": [
				{
					"name": "stdout",
					"output_type": "stream",
					"text": [
						"[ 0.07613168  3.33143297  0.27336591 -0.52466204 -0.34178698 -0.05222886]\n",
						"[ 0.89513953  2.51477111  1.77810811 -1.51922499 -0.64575281 -1.06237071\n",
						"  0.53684318 -0.65451721  1.25501459  1.5303534 ]\n"
					]
				}
			],
			"source": [
				"# Initialize theta0, in case of quadratic features\n",
				"theta0_quad = np.zeros(x_new_quad.shape[1])\n",
				"\n",
				"theta_final_quad, log_l_history_quad = gradient_ascent(theta0_quad,x_new_quad,y,lr=0.5,num_steps=n_iter)\n",
				"\n",
				"# Initialize theta0, in case of quadratic and cubic features\n",
				"theta0_cubic = np.zeros(x_new_cubic.shape[1])\n",
				"\n",
				"# Run Newton's method, in case of quadratic and cubic features\n",
				"theta_final_cubic, log_l_history_cubic = gradient_ascent(theta0_cubic,x_new_cubic,y,lr=0.5,num_steps=n_iter)\n",
				"\n",
				"# check and compare with previous results\n",
				"print(theta_final_quad)\n",
				"print(theta_final_cubic)"
			]
		},
		{
			"cell_type": "code",
			"execution_count": 22,
			"metadata": {
				"colab": {
					"base_uri": "https://localhost:8080/",
					"height": 279
				},
				"id": "dxIgGmBD3uGG",
				"outputId": "69d2c09c-c1ce-476d-e01a-4fb6f83dfb91"
			},
			"outputs": [
				{
					"data": {
						"image/png": "[encoded data removed]",
						"text/plain": [
							"<Figure size 640x480 with 1 Axes>"
						]
					},
					"metadata": {},
					"output_type": "display_data"
				}
			],
			"source": [
				"# Plot the log likelihood values in the optimization iterations, in one of the two cases.\n",
				"fig,ax = plt.subplots(num=2)\n",
				"\n",
				"ax.set_ylabel('l(Theta)')\n",
				"ax.set_xlabel('Iterations')\n",
				"_=ax.plot(range(len(log_l_history_quad)),log_l_history_quad,'b.')"
			]
		},
		{
			"cell_type": "markdown",
			"metadata": {
				"id": "h1r8rLBE3uGG"
			},
			"source": [
				"### **Question 2.2: Plot the computed non-linear boundary** \n",
				"\n"
			]
		},
		{
			"cell_type": "markdown",
			"metadata": {
				"id": "Zy_2fRVP3uGG"
			},
			"source": [
				"First, define a boundary_function to compute the boundary equation for the input feature vectors $x_1$ and $x_2$, according to estimated parameters theta, both in the case of quadratic (theta_final_quad) and of quadratic and cubic features (theta_final_cubic). Refer for the equation to the introductory part of Question 2."
			]
		},
		{
			"cell_type": "markdown",
			"metadata": {
				"id": "v67og3I73uGG"
			},
			"source": [
				"--------------------------------------------\n",
				"**Write your code below this line**\n",
				"\n",
				"--------------------------------------------"
			]
		},
		{
			"cell_type": "code",
			"execution_count": 23,
			"metadata": {
				"id": "fd4r2Z3z3uGG"
			},
			"outputs": [],
			"source": [
				"def boundary_function(x1_vec, x2_vec, theta_final):\n",
				"    \n",
				"    x1_vec, x2_vec = np.meshgrid(x1_vec,x2_vec)\n",
				"    \n",
				"    if len(theta_final) == 6:\n",
				"        # boundary function value for features up to quadratic\n",
				"        c_0, c_1, c_2, c_3, c_4, c_5 = theta_final\n",
				"        #f(x_1, x_2) = c_0 + c_1*x_1 + c_2*x_2 + c_3*x_1^2 + c_4*x_2^2 + c_5*x_1*x_2 (note: boundary function copied from the introductory part of question 2)\n",
				"        f = c_0 + c_1*x1_vec + c_2*x2_vec + c_3*(x1_vec**2) + c_4*(x2_vec**2) + c_5*(x1_vec*x2_vec)\n",
				"    elif len(theta_final) == 10:\n",
				"        # boundary function value for features up to cubic\n",
				"        c_0, c_1, c_2, c_3, c_4, c_5, c_6, c_7, c_8, c_9 = theta_final\n",
				"        #f(x_1, x_2) = c_0 + c_1*x_1 + c_2*x_2 + c_3*x_1^2 + c_4*x_2^2 + c_5*x_1*x_2 + c_6*x_1^3 + c_7*x_2^3 + c_8*x_1^2*x_2 + c_9*x_1*x_2^2\n",
				"        f = c_0 + c_1*x1_vec + c_2*x2_vec + c_3*(x1_vec**2) + c_4*(x2_vec**2) + c_5*(x1_vec*x2_vec) + c_6*(x1_vec**3) + c_7*(x2_vec**3) + c_8*((x1_vec**2)*x2_vec) + c_9*(x1_vec*(x2_vec**2))\n",
				"    else:\n",
				"        raise(\"Number of Parameters is not correct\")\n",
				"        \n",
				"    return x1_vec, x2_vec, f"
			]
		},
		{
			"cell_type": "markdown",
			"metadata": {
				"id": "n2udd0d63uGG"
			},
			"source": [
				"\n",
				"**Do not write below this line just run it**\n",
				"\n",
				"--------------------------------------------"
			]
		},
		{
			"cell_type": "markdown",
			"metadata": {
				"id": "ZIvgwCTL3uGH"
			},
			"source": [
				"Now plot the decision boundaries corresponding to the theta_final_quad and theta_final_cubic solutions."
			]
		},
		{
			"cell_type": "code",
			"execution_count": 24,
			"metadata": {
				"colab": {
					"base_uri": "https://localhost:8080/",
					"height": 265
				},
				"id": "6SSIfi6r3uGH",
				"outputId": "e75801eb-a4d9-4aa6-97b1-dfb4fcd19687"
			},
			"outputs": [
				{
					"data": {
						"image/png": "[encoded data removed]",
						"text/plain": [
							"<Figure size 640x480 with 1 Axes>"
						]
					},
					"metadata": {},
					"output_type": "display_data"
				}
			],
			"source": [
				"x1_vec = np.linspace(X[:,0].min()-1,X[:,0].max()+1,200);\n",
				"x2_vec = np.linspace(X[:,1].min()-1,X[:,1].max()+1,200);\n",
				"\n",
				"x1_vec, x2_vec, f = boundary_function(x1_vec, x2_vec, theta_final_quad)\n",
				"\n",
				"sns.scatterplot(x=X[:,0], y=X[:,1], hue=y, data=X);\n",
				"\n",
				"plt.contour(x1_vec, x2_vec, f, colors=\"red\", levels=[0])\n",
				"plt.show()"
			]
		},
		{
			"cell_type": "code",
			"execution_count": 25,
			"metadata": {
				"colab": {
					"base_uri": "https://localhost:8080/",
					"height": 265
				},
				"id": "TY5-ve1N3uGH",
				"outputId": "bc883b2e-bc57-4717-e3ae-f431be123927"
			},
			"outputs": [
				{
					"data": {
						"image/png": "[encoded data removed]",
						"text/plain": [
							"<Figure size 640x480 with 1 Axes>"
						]
					},
					"metadata": {},
					"output_type": "display_data"
				}
			],
			"source": [
				"x1_vec = np.linspace(X[:,0].min()-1,X[:,0].max()+1,200);\n",
				"x2_vec = np.linspace(X[:,1].min()-1,X[:,1].max()+1,200);\n",
				"\n",
				"x1_vec, x2_vec, f = boundary_function(x1_vec, x2_vec, theta_final_cubic)\n",
				"\n",
				"sns.scatterplot(x=X[:,0], y=X[:,1], hue=y, data=X);\n",
				"\n",
				"plt.contour(x1_vec, x2_vec, f, colors=\"red\", levels=[0])\n",
				"plt.show()"
			]
		},
		{
			"cell_type": "markdown",
			"metadata": {
				"id": "uLas_a4tUpdj"
			},
			"source": [
				"**Confusion Matrix**\n",
				"\n",
				"Here you can see the confusion matrices related to the three models you've implemented. \n"
			]
		},
		{
			"cell_type": "code",
			"execution_count": 26,
			"metadata": {
				"id": "Yypj8CpgUpdj"
			},
			"outputs": [],
			"source": [
				"from sklearn.metrics import confusion_matrix, ConfusionMatrixDisplay"
			]
		},
		{
			"cell_type": "code",
			"execution_count": 27,
			"metadata": {
				"colab": {
					"base_uri": "https://localhost:8080/",
					"height": 283
				},
				"id": "l-7oSjbzUpdk",
				"outputId": "1608ec07-60f3-4180-b4d3-2d34a868f655"
			},
			"outputs": [
				{
					"data": {
						"image/png": "[encoded data removed]",
						"text/plain": [
							"<Figure size 640x480 with 2 Axes>"
						]
					},
					"metadata": {},
					"output_type": "display_data"
				}
			],
			"source": [
				"## logistic regression with linear buondary\n",
				"\n",
				"z = np.dot(x,theta_final)\n",
				"probabilities = sigmoid(z)\n",
				"y_hat = np.array(list(map(lambda x: 1 if x>0.5 else 0, probabilities)))\n",
				"disp = ConfusionMatrixDisplay(confusion_matrix(y, y_hat))\n",
				"disp.plot()\n",
				"plt.show()"
			]
		},
		{
			"cell_type": "code",
			"execution_count": 28,
			"metadata": {
				"colab": {
					"base_uri": "https://localhost:8080/",
					"height": 279
				},
				"id": "Zuac0wuhUpdk",
				"outputId": "b2593369-f864-4a25-a4b9-d9a6a8c3e919"
			},
			"outputs": [
				{
					"data": {
						"image/png": "[encoded data removed]",
						"text/plain": [
							"<Figure size 640x480 with 2 Axes>"
						]
					},
					"metadata": {},
					"output_type": "display_data"
				}
			],
			"source": [
				"## logistic regression with non linear buondary - quadratic\n",
				"\n",
				"z = np.dot(x_new_quad,theta_final_quad)\n",
				"probabilities = sigmoid(z)\n",
				"y_hat = np.array(list(map(lambda x: 1 if x>0.5 else 0, probabilities)))\n",
				"disp = ConfusionMatrixDisplay(confusion_matrix(y, y_hat))\n",
				"disp.plot()\n",
				"plt.show()"
			]
		},
		{
			"cell_type": "code",
			"execution_count": 29,
			"metadata": {
				"colab": {
					"base_uri": "https://localhost:8080/",
					"height": 279
				},
				"id": "GfYPFswWUpdk",
				"outputId": "8b87bf0d-514f-48a7-f307-037e0254fda4"
			},
			"outputs": [
				{
					"data": {
						"image/png": "[encoded data removed]",
						"text/plain": [
							"<Figure size 640x480 with 2 Axes>"
						]
					},
					"metadata": {},
					"output_type": "display_data"
				}
			],
			"source": [
				"## logistic regression with non linear buondary - cubic\n",
				"\n",
				"z = np.dot(x_new_cubic,theta_final_cubic)\n",
				"probabilities = sigmoid(z)\n",
				"y_hat = np.array(list(map(lambda x: 1 if x>0.5 else 0, probabilities)))\n",
				"disp = ConfusionMatrixDisplay(confusion_matrix(y, y_hat))\n",
				"disp.plot()\n",
				"plt.show()"
			]
		},
		{
			"cell_type": "markdown",
			"metadata": {
				"id": "rQGJhknOE3-U"
			},
			"source": [
				"### **Question 2.3: Report *(3/7 Points)*** \n",
				"\n"
			]
		},
		{
			"cell_type": "markdown",
			"metadata": {
				"id": "do098TOZ3uGH"
			},
			"source": [
				"Write now your considerations. Discuss in particular:\n",
				"1. Look back at the plots you have generated. What can you say about the differences between the linear, quadratic, and cubic decision boundaries? Can you say if the model is improving in performances, increasing the degree of the polynomial? Do you think you can incur in underfitting increasing more and more the degree?\n",
				"2. Let's now delve into some quantitative analysis. The three tables you have generated represent the confusion matrix for the model you have implemented in the first two questions. What can you say about actual performances? Does the increase of the degree have a high effect on the results? \n"
			]
		},
		{
			"cell_type": "markdown",
			"metadata": {
				"id": "9C3gOx5_E3-U"
			},
			"source": [
				"-------------------------------------------------------\n",
				"\n",
				"\n",
				"**WRITE YOUR ANSWER HERE:**\n",
				"\n",
				"1. Looking at the different confusion matrices, it is immediate to notice that the best result is achieved by the cubic decision boundaries since the overall accuracy is slightly larger (there are more correct predictions and less errors). For what concerns performance, if we use a larger degree we increase the computational cost of the algorithm due to the fact that we have much more computations so, the higher the degree the slower the algorithm will be. Also, if we increase the degree of the polynomial we will probably experience overfitting since we would have way more parameters than can be justified by the data and this could be a problem when predicting new unseen values. Contrarily, we could have to deal with underfitting if we have low parameters and our model is too simple. So, the degree of the polynomial should be large enough and if we increase it we won’t incur in underfitting (but overfitting).\n",
				"\n",
				"2. As already said in the first question, it is possible to notice that in the case of cubic decision boundary we have a higher number of true positives and true negatives while the errors (both false positives and false negatives) slightly decrease, while the worst scenario is when we use the linear model. So, in general, if we increase the degree of the polynomial we also increase the overall accuracy of the model (paying attention to avoid overfitting).\n",
				"\n",
				"-------------------------------------------------------"
			]
		},
		{
			"cell_type": "markdown",
			"metadata": {
				"id": "JTeuyG-S3uGH",
				"tags": []
			},
			"source": [
				"## **Question 3: Multinomial Classification *(13 Points)***"
			]
		},
		{
			"cell_type": "markdown",
			"metadata": {
				"id": "KS-AS1PUE3-V"
			},
			"source": [
				"### **Question 3.1: Softmax Regression Model *(4/13 Points)***\n",
				"\n",
				"In the multinomial classification we generally have $K>2$ classes. So the label for the $i$-th sample $X_i$ is $y_i\\in\\{1,...,K\\}$, where $i=1,...,N$. The output class for each sample is estimated by returning a score $s_i$ for each of the K classes. This results in a vector of scores of dimension K. \n",
				"In this exercise we'll use the *Softmax Regression* model, which is the natural extension of *Logistic Regression* for the case of more than 2 classes. The score array is given by the linear model:\n",
				"\n",
				"\\begin{align*}\n",
				"s_i =  X_i \\theta\n",
				"\\end{align*}\n",
				"\n",
				"Scores may be interpreted probabilistically, upon application of the function *softmax*. The position in the vector with the highest probability will be predicted as the output class. The probability of the class k for the $i$-th data sample is:\n",
				"\n",
				"\\begin{align*}\n",
				"p_{ik} = \\frac{\\exp(X_i \\theta_k)}{\\sum_{j=1}^K(X_i \\theta_j))}\n",
				"\\end{align*}\n",
				"\n",
				"We will adopt the *Cross Entropy* loss and optimize the model via *Gradient Descent*. \n",
				"In the first of this exercise we have to: \n",
				"-    Write the equations of the Cross Entropy loss for the Softmax regression model;\n",
				"-    Compute the equation for the gradient of the Cross Entropy loss for the model, in order to use it in the gradient descent algorithm.\n",
				"\n",
				"#### A bit of notation\n",
				"\n",
				"*  N: is the number of samples \n",
				"*  K: is the number of classes\n",
				"*  X: is the input dataset and it has shape (N, H) where H is the number of features\n",
				"*  y: is the output array with the labels; it has shape (N, 1)\n",
				"*  $\\theta$: is the parameter matrix of the model; it has shape (H, K)"
			]
		},
		{
			"cell_type": "markdown",
			"metadata": {
				"id": "xHX1s7jp3uGI"
			},
			"source": [
				"--------------------------------------------\n",
				"**Write you equation below this line**\n",
				"\n",
				"--------------------------------------------"
			]
		},
		{
			"cell_type": "markdown",
			"metadata": {
				"id": "ixObV4w43uGI"
			},
			"source": [
				"\\begin{align*}\n",
				"L(\\theta) = -\\frac{1}{N}\\sum_{k=1}^K\\sum_{i=1}^N(y_i^k log(p_i^k))\n",
				"\\end{align*}\n",
				"Where:\n",
				"\\begin{align*}\n",
				"p_{i}^k = \\frac{\\exp(X_i \\theta_k)}{\\sum_{j=1}^K(X_i \\theta_j))}\n",
				"\\end{align*}\n",
				"is the probability of the class k for the 𝑖 -th data sample.\n",
				"\n",
				"The gradient of the Cross Entropy loss is given by the following equation:\n",
				"\n",
				"\\begin{align*}\n",
				"\\nabla_{\\theta_k} L(\\theta) = -\\frac{1}{N}\\sum_{i=1}^N (y_i - p_i)x^{(i)}_j\n",
				"\\end{align*}\n"
			]
		},
		{
			"cell_type": "markdown",
			"metadata": {
				"id": "nZfeKXUs3uGI"
			},
			"source": [
				"**Do not write below this line just run it**\n",
				"\n",
				"--------------------------------------------"
			]
		},
		{
			"cell_type": "markdown",
			"metadata": {
				"id": "rMxrcWc53uGI"
			},
			"source": [
				"### **Question 3.2: Coding *(4/13 Points)***\n",
				"\n",
				"Now we will implement the code for the equations. Let's implement the functions:\n",
				"-  softmax \n",
				"-  CELoss\n",
				"-  CELoss gradient\n",
				"-  gradient descent\n",
				"\n",
				"We generate a toy dataset with *sklearn* library. Do not change anything outside the parts provided of your own code (else the provided checkpoint will not work)."
			]
		},
		{
			"cell_type": "code",
			"execution_count": 30,
			"metadata": {
				"colab": {
					"base_uri": "https://localhost:8080/"
				},
				"id": "wJJ-kcEq3uGI",
				"outputId": "f7853549-d8dc-4b4f-c1de-40b0e9071cd9"
			},
			"outputs": [
				{
					"data": {
						"text/plain": [
							"((300, 7), (300,))"
						]
					},
					"execution_count": 30,
					"metadata": {},
					"output_type": "execute_result"
				}
			],
			"source": [
				"from sklearn.datasets import make_classification\n",
				"\n",
				"X, y = make_classification(n_samples=300, n_features=7, n_informative=7, n_redundant=0, n_classes=3, random_state=1)\n",
				"X.shape, y.shape"
			]
		},
		{
			"cell_type": "markdown",
			"metadata": {
				"id": "2RrCmafP3uGI"
			},
			"source": [
				"**Hint for the implementation:** consider the labels $y$ as one-hot vector. This will allow matrix operations (element-wise multiplication and summation)."
			]
		},
		{
			"cell_type": "code",
			"execution_count": 31,
			"metadata": {
				"id": "lQaSqENw3uGI"
			},
			"outputs": [],
			"source": [
				"import scipy\n",
				"import numpy as np\n",
				"\n",
				"def class2OneHot(vec):\n",
				"    out_sparse = scipy.sparse.csr_matrix((np.ones(vec.shape[0]), (vec, np.array(range(vec.shape[0])))))\n",
				"    out_onehot = np.array(out_sparse.todense()).T\n",
				"    return out_onehot\n",
				"\n",
				"y_onehot = class2OneHot(y)"
			]
		},
		{
			"cell_type": "markdown",
			"metadata": {
				"id": "kl6Vnzyh3uGJ"
			},
			"source": [
				"Let's visualize the generated dataset. We use the *Principal Component Analysis* (PCA) as a visualization method. \n",
				"\n",
				"PCA summarizes the high-dimensional feature vectors of each sample into two features, which we can illustrate with a 2D plot. \n",
				"\n",
				"Look at the following plot. The three generated classes do not seem separable."
			]
		},
		{
			"cell_type": "code",
			"execution_count": 32,
			"metadata": {
				"id": "c6y1_Uj83uGJ"
			},
			"outputs": [],
			"source": [
				"from sklearn.decomposition import PCA\n",
				"import pandas as pd\n",
				"\n",
				"pca = PCA(n_components=2)\n",
				"principalComponents = pca.fit_transform(X)\n",
				"principalDf = pd.DataFrame(data = principalComponents, columns = ['pc1', 'pc2'])\n",
				"finalDf = pd.concat([principalDf, pd.DataFrame(y, columns = ['target'])], axis = 1)"
			]
		},
		{
			"cell_type": "code",
			"execution_count": 33,
			"metadata": {
				"colab": {
					"base_uri": "https://localhost:8080/",
					"height": 279
				},
				"id": "-ZiQzwCr3uGJ",
				"outputId": "7071ec04-bec0-4de7-9342-c56d6f0a9b5b"
			},
			"outputs": [
				{
					"data": {
						"image/png": "[encoded data removed]",
						"text/plain": [
							"<Figure size 640x480 with 1 Axes>"
						]
					},
					"metadata": {},
					"output_type": "display_data"
				}
			],
			"source": [
				"import seaborn as sns\n",
				"import matplotlib.pyplot as plt\n",
				"sns.scatterplot(x='pc1', y='pc2', hue='target', data=finalDf);"
			]
		},
		{
			"cell_type": "markdown",
			"metadata": {
				"id": "Ac03aJju3uGJ"
			},
			"source": [
				"--------------------------------------------\n",
				"**Write your code below this line**\n",
				"\n",
				"--------------------------------------------"
			]
		},
		{
			"cell_type": "code",
			"execution_count": 35,
			"metadata": {
				"id": "i9rZrYaw3uGJ"
			},
			"outputs": [],
			"source": [
				"def softmax(theta, X):\n",
				"    '''\n",
				"    Function to compute associated probability for each sample and each class.\n",
				"    \n",
				"    Input:\n",
				"    theta: it's the model parameter matrix. The shape is (H, K)\n",
				"    X: it's the input data matrix. The shape is (N, H)\n",
				"\n",
				"    Output:\n",
				"    softmax: it's the matrix containing probability for each sample and each class. The shape is (N, K)\n",
				"    '''\n",
				"    # Sources: https://peterroelants.github.io/posts/cross-entropy-softmax/\n",
				"    Z = X.dot(theta)\n",
				"    softmax = np.exp(Z) / np.sum(np.exp(Z), axis=1)[:, np.newaxis] #np.newaxis adds a dimension in order to perform the division correctly\n",
				"    return softmax\n",
				"\n",
				"def CELoss(theta, X, y_onehot):\n",
				"    '''\n",
				"    Function to compute softmax regression model and Cross Entropy loss.\n",
				"    \n",
				"    Input:\n",
				"    theta: it's the model parameter matrix. The shape is (H, K)\n",
				"    X: it's the input data matrix. The shape is (N, H)\n",
				"    y_onehot: it's the label array in encoded as one hot vector. The shape is (N, K)\n",
				"\n",
				"    Output:\n",
				"    loss: The scalar that is the mean error for each sample.\n",
				"    '''\n",
				"    ## Sources: https://medium.com/unpackai/cross-entropy-loss-in-ml-d9f22fc11fe0\n",
				"    ##          https://jmlb.github.io/ml/2017/12/26/Calculate_Gradient_Softmax/\n",
				"    K = theta.shape[1]\n",
				"    N = X.shape[0]\n",
				"    softmax_matrix = softmax(theta, X)\n",
				"    loss = -np.sum(y_onehot * np.log(softmax_matrix))\n",
				"    return loss/N\n",
				"\n",
				"    \n",
				"def CELoss_jacobian(theta, X, y_onehot):\n",
				"    '''\n",
				"    Function to compute gradient of the cross entropy loss with respect the parameters.\n",
				"    \n",
				"    Input:\n",
				"    theta: it's the model parameter matrix. The shape is (H, K)\n",
				"    X: it's the input data matrix. The shape is (N, H)\n",
				"    y_onehot: it's the label array in encoded as one hot vector. The shape is (N, K)\n",
				"\n",
				"    Output:\n",
				"    jacobian: A matrix with the partial derivatives of the loss. The shape is (H, K)\n",
				"    '''\n",
				"    H = theta.shape[0]\n",
				"    K = theta.shape[1]\n",
				"    N = X.shape[0]\n",
				"    Z = X.dot(theta)\n",
				"    jacobian = np.zeros(shape=(H,K))\n",
				"    softmax_matrix = softmax(theta, X)\n",
				"    jacobian -= ((y_onehot - softmax_matrix).T.dot(X)).T #https://stackoverflow.com/questions/19602187/numpy-divide-each-row-by-a-vector-element\n",
				"    return jacobian/N\n",
				"\n",
				"def gradient_descent(theta, X, y_onehot, alpha=0.01, iterations=100):\n",
				"    '''\n",
				"    Function to compute gradient of the cross entropy loss with respect the parameters.\n",
				"    \n",
				"    Input:\n",
				"    theta: it's the model parameter matrix. The shape is (H, K)\n",
				"    X: it's the input data matrix. The shape is (N, H)\n",
				"    y_onehot: it's the label array in encoded as one hot vector. The shape is (N, K)\n",
				"    alpha: it's the learning rate, so it determines the speed of each step of the GD algorithm\n",
				"    iterations: it's the total number of step the algorithm performs\n",
				"\n",
				"    Output:\n",
				"    theta: it's the updated matrix of the parameters after all the iterations of the optimization algorithm. The shape is (H, K)\n",
				"    loss_history: it's an array with the computed loss after each iteration\n",
				"    '''\n",
				"    ## Sources: https://github.com/rasbt/python-machine-learning-book/blob/master/faq/softmax_regression.md\n",
				"    # We initialize an empty array to be filled with loss value after each iteration\n",
				"    loss_history = np.zeros(iterations)\n",
				"    # With a for loop we compute the steps of GD algo\n",
				"    for it in range(iterations):\n",
				"        loss_history[it] = CELoss(theta, X, y_onehot)\n",
				"        jacobian = CELoss_jacobian(theta, X, y_onehot)\n",
				"        theta = theta - alpha * jacobian\n",
				"    return theta, loss_history"
			]
		},
		{
			"cell_type": "markdown",
			"metadata": {
				"id": "nHEWCMjo3uGJ"
			},
			"source": [
				"\n",
				"**Do not write below this line just run it**\n",
				"\n",
				"--------------------------------------------"
			]
		},
		{
			"cell_type": "code",
			"execution_count": 36,
			"metadata": {
				"colab": {
					"base_uri": "https://localhost:8080/"
				},
				"id": "kZPZLWLz3uGJ",
				"outputId": "29c74381-f099-47e5-999d-cc7d3bf00b0b"
			},
			"outputs": [
				{
					"name": "stdout",
					"output_type": "stream",
					"text": [
						"Initial Loss with initialized theta is: 1.214443359788165\n"
					]
				}
			],
			"source": [
				"# Initialize a theta matrix with random parameters\n",
				"theta0 = np.random.rand(X.shape[1], len(np.unique(y)))\n",
				"\n",
				"print(\"Initial Loss with initialized theta is:\", CELoss(theta0, X, y_onehot))\n",
				"# Run Gradient Descent method\n",
				"n_iter = 1000\n",
				"theta_final, log_l_history = gradient_descent(theta0, X, y_onehot, alpha=0.01, iterations=n_iter)"
			]
		},
		{
			"cell_type": "code",
			"execution_count": 37,
			"metadata": {
				"colab": {
					"base_uri": "https://localhost:8080/"
				},
				"id": "ejE4e-kr3uGJ",
				"outputId": "901e4261-b211-440c-a396-d8700df86298"
			},
			"outputs": [
				{
					"data": {
						"text/plain": [
							"array([[ 0.38648234,  0.44818903,  0.46928589],\n",
							"       [ 0.44792683,  0.3161527 ,  0.42097071],\n",
							"       [ 0.4576363 ,  0.45816879,  1.0947411 ],\n",
							"       [ 0.00649029, -0.30745847,  0.80030703],\n",
							"       [ 0.80661187,  0.27307262,  0.30864517],\n",
							"       [ 0.51457972,  0.501767  ,  0.28068512],\n",
							"       [ 0.7567234 , -0.28340542,  0.9931525 ]])"
						]
					},
					"execution_count": 37,
					"metadata": {},
					"output_type": "execute_result"
				}
			],
			"source": [
				"theta_final"
			]
		},
		{
			"cell_type": "code",
			"execution_count": 38,
			"metadata": {
				"colab": {
					"base_uri": "https://localhost:8080/"
				},
				"id": "81bEfMul3uGK",
				"outputId": "731f33bd-ab85-4051-fffa-411b2fcb5f80"
			},
			"outputs": [
				{
					"data": {
						"text/plain": [
							"0.5853202006872726"
						]
					},
					"execution_count": 38,
					"metadata": {},
					"output_type": "execute_result"
				}
			],
			"source": [
				"loss = CELoss(theta_final, X, y_onehot)\n",
				"loss"
			]
		},
		{
			"cell_type": "code",
			"execution_count": 39,
			"metadata": {
				"colab": {
					"base_uri": "https://localhost:8080/",
					"height": 279
				},
				"id": "BKcoJLSP3uGK",
				"outputId": "d0f3f8fd-003e-4352-8ba1-7ffbafa5a3ee"
			},
			"outputs": [
				{
					"data": {
						"image/png": "[encoded data removed]",
						"text/plain": [
							"<Figure size 640x480 with 1 Axes>"
						]
					},
					"metadata": {},
					"output_type": "display_data"
				}
			],
			"source": [
				"fig,ax = plt.subplots(num=2)\n",
				"\n",
				"ax.set_ylabel('loss')\n",
				"ax.set_xlabel('Iterations')\n",
				"_=ax.plot(range(len(log_l_history)), log_l_history,'b.')"
			]
		},
		{
			"cell_type": "markdown",
			"metadata": {
				"id": "c7Ey8deA3uGK"
			},
			"source": [
				"### **Question 3.3: Meseaure of Godness *(2/13 Points)***\n",
				"\n",
				"Let's now evaluate the goodness of the learnt based on accuracy:\n",
				"\n",
				"\\begin{equation}\n",
				"Accuracy = \\frac{Number\\ of\\ correct\\ predictions}{Total\\ number\\ of\\ predictions}\n",
				"\\end{equation}\n",
				"\n",
				"Implement the compute_accuracy function. You may compare the accuracy achieved with learnt model Vs. a random model (random $\\Theta$) or one based on $\\Theta$'s filled with zeros."
			]
		},
		{
			"cell_type": "markdown",
			"metadata": {
				"id": "mEOB44vk3uGK"
			},
			"source": [
				"--------------------------------------------\n",
				"**Write your code below this line**\n",
				"\n",
				"--------------------------------------------"
			]
		},
		{
			"cell_type": "code",
			"execution_count": 40,
			"metadata": {
				"id": "Rh-cy3XX3uGK"
			},
			"outputs": [],
			"source": [
				"def compute_accuracy(theta, X, y):\n",
				"    '''\n",
				"    Function to compute accuracy metrics of the softmax regression model.\n",
				"    \n",
				"    Input:\n",
				"    theta: it's the final parameter matrix. The one we learned after all the iterations of the GD algorithm. The shape is (H, K)\n",
				"    X: it's the input data matrix. The shape is (N, H)\n",
				"    y: it's the label array. The shape is (N, 1)\n",
				"\n",
				"    Output:\n",
				"    accuracy: Score of the accuracy.\n",
				"    '''\n",
				"    preds = np.argmax(softmax(theta, X), axis=1)\n",
				"    TP = TN = 0\n",
				"    for pred_index, pred in enumerate(preds):\n",
				"        if pred == y[pred_index]:\n",
				"            if pred == 1: TP = TP + 1\n",
				"            else: TN = TN + 1\n",
				"    return (TP+TN)/len(y)"
			]
		},
		{
			"cell_type": "markdown",
			"metadata": {
				"id": "EjZMkNYF3uGK"
			},
			"source": [
				"--------------------------------------------\n",
				"**Do not write below this line just run it**\n",
				"\n",
				"--------------------------------------------"
			]
		},
		{
			"cell_type": "code",
			"execution_count": 41,
			"metadata": {
				"colab": {
					"base_uri": "https://localhost:8080/"
				},
				"id": "v1-OxfPQ3uGK",
				"outputId": "229f13dd-e110-4844-8420-b9114078ae47"
			},
			"outputs": [
				{
					"data": {
						"text/plain": [
							"0.7933333333333333"
						]
					},
					"execution_count": 41,
					"metadata": {},
					"output_type": "execute_result"
				}
			],
			"source": [
				"compute_accuracy(theta_final, X, y)"
			]
		},
		{
			"cell_type": "code",
			"execution_count": 42,
			"metadata": {
				"colab": {
					"base_uri": "https://localhost:8080/"
				},
				"id": "mIhJZ3AIE3-Z",
				"outputId": "dd66b8af-e72f-4da1-c410-7304880febc6"
			},
			"outputs": [
				{
					"data": {
						"text/plain": [
							"0.5533333333333333"
						]
					},
					"execution_count": 42,
					"metadata": {},
					"output_type": "execute_result"
				}
			],
			"source": [
				"theta0 = np.random.rand(X.shape[1], len(np.unique(y)))\n",
				"compute_accuracy(theta0, X, y)"
			]
		},
		{
			"cell_type": "code",
			"execution_count": 43,
			"metadata": {
				"colab": {
					"base_uri": "https://localhost:8080/"
				},
				"id": "rF1eBJjs3uGK",
				"outputId": "81bd0c1a-0f5b-4576-f808-7af3ec88fc2a"
			},
			"outputs": [
				{
					"data": {
						"text/plain": [
							"0.3333333333333333"
						]
					},
					"execution_count": 43,
					"metadata": {},
					"output_type": "execute_result"
				}
			],
			"source": [
				"compute_accuracy(np.zeros((X.shape[1], len(np.unique(y)))), X, y)"
			]
		},
		{
			"cell_type": "markdown",
			"metadata": {
				"id": "Vu2tNIpT3uGL"
			},
			"source": [
				"### **Question 3.4: Report *(3 Points)***\n",
				"\n",
				"Experiment with different values for the learning rate $\\alpha$ and the number of iterations. \n",
				"\n",
				"Look how the loss plot changes the convergence rate and accuracy metric. \n",
				"\n",
				"Report also execution time of each run. For this last step, you could you **time** at the beginning of the cell to display the time needed for the algorithm."
			]
		},
		{
			"cell_type": "code",
			"execution_count": 44,
			"metadata": {
				"id": "FeeMj9BB3uGL",
				"outputId": "f2066ae0-9a34-4acf-84f7-c76c212f8cd3"
			},
			"outputs": [
				{
					"name": "stdout",
					"output_type": "stream",
					"text": [
						"Initial Loss with initialized theta is: 2.039377016548923\n",
						"CPU times: user 10.4 ms, sys: 3.74 ms, total: 14.1 ms\n",
						"Wall time: 18.3 ms\n"
					]
				}
			],
			"source": [
				"%%time\n",
				"\n",
				"# Initialize a theta matrix with random parameters\n",
				"theta0 = np.random.rand(X.shape[1], len(np.unique(y)))\n",
				"\n",
				"print(\"Initial Loss with initialized theta is:\", CELoss(theta0, X, y_onehot))\n",
				"\n",
				"# Run Gradient Descent method\n",
				"n_iter = 100\n",
				"theta_final, log_l_history = gradient_descent(theta0, X, y_onehot, alpha=0.001, iterations=n_iter)"
			]
		},
		{
			"cell_type": "markdown",
			"metadata": {
				"id": "vKpvqqL0E3-Z"
			},
			"source": [
				"--------------------------------------------\n",
				"**Write your report below this line**\n",
				"\n",
				"--------------------------------------------"
			]
		},
		{
			"cell_type": "markdown",
			"metadata": {
				"id": "NAW9sLt83uGL"
			},
			"source": [
				"\n",
				"| LR | Iter | Accuracy | Time |\n",
				"|---|---|---|---|\n",
				"| 0.001 | 5 | 0.45 | 996 µs |\n",
				"| 0.01 | 5 | 0.12666666666666668 | 996 µs |\n",
				"| 0.1 | 5 | 0.56 | 2ms |\n",
				"| 1 | 5 | 0.78 | 995 µs |\n",
				"| 5 | 5 | 0.6433333333333333 | 997 µs |\n",
				"| 10 | 5 | 0.7433333333333333 | 2ms |\n",
				"| 20 | 5 | 0.65 | 3.55 ms |\n",
				"| 0.001 | 10 | 0.35 | 1.99ms |\n",
				"| 0.01 | 10 | 0.33 | 2ms |\n",
				"| 0.1 | 10 | 0.6966666666666667 | 2ms |\n",
				"| 1 | 10 | 0.7966666666666666 | 1.99ms |\n",
				"| 5 | 10 | 0.66 | 1.99ms |\n",
				"| 10 | 10 | 0.6366666666666667 | 4.87ms |\n",
				"| 20 | 10 | 0.71 | 2ms |\n",
				"| 0.001 | 100 | 0.49666666666666665 | 8.98ms |\n",
				"| 0.01 | 100 | 0.68 | 14.2ms |\n",
				"| 0.1 | 100 | 0.7866666666666666 | 12ms |\n",
				"| 1 | 100 | 0.7866666666666666 |  11ms |\n",
				"| 5 | 100 | 0.6533333333333333 | 11ms |\n",
				"| 10 | 100 | 0.63 | 12.2ms |\n",
				"| 20 | 100 | 0.6333333333333333 | 10.9ms |\n",
				"| 0.001 | 500 | 0.46 | 31.2ms |\n",
				"| 0.01 | 500 | 0.77 | 40.8ms |\n",
				"| 0.1 | 500 | 0.7866666666666666 | 44.9ms |\n",
				"| 1 | 500 | 0.7866666666666666 | 42.9ms |\n",
				"| 5 | 500 | 0.6533333333333333 | 45.9ms |\n",
				"| 10 | 500 | 0.63 | 43ms |\n",
				"| 20 | 500 | 0.6366666666666667 | 45.9ms |\n",
				"| 0.001 | 1000 | 0.65 | 0.65ms |\n",
				"| 0.01 | 1000 | 0.7933333333333333 | 81.6ms |\n",
				"| 0.1 | 1000 | 0.7866666666666666 | 67.5ms |\n",
				"| 1 | 1000 | 0.7866666666666666 | 69.7ms |\n",
				"| 5 | 1000 | 0.6533333333333333 | 66.6ms |\n",
				"| 10 | 1000 | 0.68 | 69.8ms |\n",
				"| 20 | 1000 | 0.64 | 84.4ms |\n"
			]
		},
		{
			"cell_type": "markdown",
			"metadata": {
				"id": "mhMQlIA7E3-d",
				"tags": []
			},
			"source": [
				"## **Question 4 (BONUS): Trasfer Learning on CIFAR-10 _(5 points)_**"
			]
		},
		{
			"cell_type": "markdown",
			"metadata": {
				"id": "IPPs4B69E3-d"
			},
			"source": [
				"**Transfer Learning (TL)** is a machine learning technique that consists in reusing a pre-trained model and its weights to perform a task similar to the one the model has been trained on. Pre-trained models are usually trained using large amounts of data and are really useful if you have just a small dataset to learn from.\n",
				"\n",
				"In this bonus question you are going to leverage a pre-trained DNN, [**AlexNet**](https://papers.nips.cc/paper/2012/file/c399862d3b9d6b76c8436e924a68c45b-Paper.pdf), trained on the IMAGENET dataset, in order to train two classification models on a different, smaller, dataset (CIFAR-10 in this case).\n",
				"\n",
				"The dataset your are going to use is made of 50000 feature embeddings with 1024 dimensions obtained by encoding the images in CIFAR-10 with the pre-trained AlexNet. This means that your classifier is going to leverage the representation power of a relatively large DNN without the actual need to train in from scratch, which would require high GPU power and many hours/days of training.\n",
				"\n",
				"For the most curious among you: at the end of the exercise you will find the actual code that we used to encode the CIFAR-10 dataset with AlexNet using the [**PyTorch**](https://pytorch.org/) framework. In case you wanted to run it, we suggest to either use Google Colab with the runtime set to GPU (Runtime -> Change runtime type -> GPU) or a PC/laptop with a relative capable GPU (minimum 4GB of VRAM)."
			]
		},
		{
			"cell_type": "markdown",
			"metadata": {
				"id": "EjZMkNYF3uGK"
			},
			"source": [
				"--------------------------------------------\n",
				"**Do not write below this line, just run it**\n",
				"\n",
				"--------------------------------------------"
			]
		},
		{
			"cell_type": "code",
			"execution_count": 45,
			"metadata": {},
			"outputs": [],
			"source": [
				"# import libraries and set seed\n",
				"import numpy as np\n",
				"import matplotlib.pyplot as plt\n",
				"\n",
				"from tqdm import tqdm\n",
				"\n",
				"np.random.seed(123)"
			]
		},
		{
			"cell_type": "code",
			"execution_count": 46,
			"metadata": {
				"id": "n1h8eVpn1_Fe"
			},
			"outputs": [],
			"source": [
				"# load the train and test datasets\n",
				"X_train = np.load('./processed_data/X_train.npy')\n",
				"y_train = np.load('./processed_data/y_train.npy')\n",
				"y_onehot_train = np.load('./processed_data/y_onehot_train.npy')\n",
				"\n",
				"X_test = np.load('./processed_data/X_test.npy')\n",
				"y_test = np.load('./processed_data/y_test.npy')"
			]
		},
		{
			"cell_type": "code",
			"execution_count": 47,
			"metadata": {},
			"outputs": [
				{
					"name": "stdout",
					"output_type": "stream",
					"text": [
						"X_train shape: (50000, 1024)\n",
						"y_train shape: (50000,)\n",
						"y_onehot_train shape: (50000, 10)\n",
						"X_test shape: (10000, 1024)\n",
						"y_test shape: (10000,)\n"
					]
				}
			],
			"source": [
				"# Shapes\n",
				"print(\"X_train shape:\", X_train.shape)\n",
				"print(\"y_train shape:\", y_train.shape)\n",
				"print(\"y_onehot_train shape:\", y_onehot_train.shape)\n",
				"print(\"X_test shape:\", X_test.shape)\n",
				"print(\"y_test shape:\", y_test.shape)"
			]
		},
		{
			"cell_type": "markdown",
			"metadata": {
				"id": "a5r1XAZntw9i"
			},
			"source": [
				"### **Question 4.1: Train a KNN Classifier on CIFAR-10 _(2/5 points)_**\n",
				"\n",
				"Your goal is to train a KNN Classification model using the pre-processed and encoded CIFAR-10 dataset (given by us).\n",
				"\n",
				"The encoded dataset is made of 50000 feature embeddings with 1024 dimensions. The labels are encoded as integers in the range [0,9], they will serve as the target of your classifier.\n",
				"\n",
				"KNN is a simple and intuitive classification algorithm that works by assigning a label to a new sample based on the labels of the K nearest samples in the training set. The label is the one that appears the most among the K nearest samples.\n"
			]
		},
		{
			"cell_type": "markdown",
			"metadata": {},
			"source": [
				"**HINTS:** \n",
				"* You will have to train the KNN classifier on the training set by trying different values of K. At the end you will have to report the accuracy of your model on the test set for the best value of K.\n",
				"* You **must** use sklearn.neighbors.KNeighborsClassifier to train your model. You can find the documentation [here](https://scikit-learn.org/stable/modules/generated/sklearn.neighbors.KNeighborsClassifier.html).\n",
				"\n"
			]
		},
		{
			"cell_type": "code",
			"execution_count": 48,
			"metadata": {},
			"outputs": [],
			"source": [
				"from sklearn.neighbors import KNeighborsClassifier\n",
				"from sklearn import metrics"
			]
		},
		{
			"cell_type": "code",
			"execution_count": 49,
			"metadata": {},
			"outputs": [],
			"source": [
				"# subsampling data\n",
				"num_training = 10000\n",
				"mask = list(range(num_training))\n",
				"X_train_sub = X_train[mask]\n",
				"y_train_sub = y_train[mask]"
			]
		},
		{
			"cell_type": "code",
			"execution_count": 50,
			"metadata": {},
			"outputs": [],
			"source": [
				"k_range = range(5, 11)\n",
				"scores = {}\n",
				"scores_list = []"
			]
		},
		{
			"cell_type": "markdown",
			"metadata": {},
			"source": [
				"--------------------------------------------\n",
				"**Write your code below this line**\n",
				"\n",
				"--------------------------------------------"
			]
		},
		{
			"cell_type": "code",
			"execution_count": 51,
			"metadata": {},
			"outputs": [],
			"source": [
				"for k in k_range:\n",
				"    model = KNeighborsClassifier(n_neighbors=k)\n",
				"    model.fit(X_train_sub, y_train_sub)\n",
				"    y_pred = model.predict(X_test)\n",
				"    scores[k] = metrics.accuracy_score(y_test,y_pred)\n",
				"    scores_list.append(metrics.accuracy_score(y_test,y_pred))"
			]
		},
		{
			"cell_type": "markdown",
			"metadata": {},
			"source": [
				"--------------------------------------------\n",
				"**Do not write below this line, just run it**\n",
				"\n",
				"--------------------------------------------"
			]
		},
		{
			"cell_type": "code",
			"execution_count": 52,
			"metadata": {},
			"outputs": [
				{
					"data": {
						"text/plain": [
							"Text(0, 0.5, 'Testing Accuracy')"
						]
					},
					"execution_count": 52,
					"metadata": {},
					"output_type": "execute_result"
				},
				{
					"data": {
						"image/png": "[encoded data removed]",
						"text/plain": [
							"<Figure size 640x480 with 1 Axes>"
						]
					},
					"metadata": {},
					"output_type": "display_data"
				}
			],
			"source": [
				"%matplotlib inline\n",
				"import matplotlib.pyplot as plt\n",
				"\n",
				"plt.plot(k_range, scores_list)\n",
				"plt.xlabel('Value of K for KNN')\n",
				"plt.ylabel('Testing Accuracy')"
			]
		},
		{
			"cell_type": "markdown",
			"metadata": {},
			"source": [
				"--------------------------------------------\n",
				"**Do not write below this line, just run it**\n",
				"\n",
				"--------------------------------------------"
			]
		},
		{
			"cell_type": "code",
			"execution_count": 53,
			"metadata": {},
			"outputs": [],
			"source": [
				"# now pick the best k and train on the whole training set\n",
				"knn = KNeighborsClassifier(n_neighbors=10)\n",
				"knn.fit(X_train, y_train)\n",
				"y_pred = knn.predict(X_test)"
			]
		},
		{
			"cell_type": "code",
			"execution_count": 54,
			"metadata": {},
			"outputs": [
				{
					"name": "stdout",
					"output_type": "stream",
					"text": [
						"0.7363\n"
					]
				}
			],
			"source": [
				"# print the accuracy\n",
				"print(metrics.accuracy_score(y_test, y_pred))"
			]
		},
		{
			"cell_type": "markdown",
			"metadata": {
				"id": "a5r1XAZntw9i"
			},
			"source": [
				"### **Question 4.2: Train a Softmax Classifier on CIFAR-10 _(2/5 points)_**\n",
				"\n",
				"Your goal is to train a Softmax Regression Model using the pre-processed and encoded CIFAR-10 dataset (given by us) and the code written by you in Question 3.2."
			]
		},
		{
			"cell_type": "markdown",
			"metadata": {},
			"source": [
				"Here you have to write the code to train your Softmax Regression Model.  \n",
				"Your function has to return the inital theta, the learned theta, and the loss history.  \n",
				"You can evaluate its performance with the code below.\n",
				"\n",
				"**HINT:** Experiment with different alpha's with a small number of iterations to keep the training time low. Once you find the best alpha you can train your model for as long as needed."
			]
		},
		{
			"cell_type": "markdown",
			"metadata": {
				"id": "rS23HuxPE3-d"
			},
			"source": [
				"--------------------------------------------\n",
				"**Write your code below this line**\n",
				"\n",
				"--------------------------------------------"
			]
		},
		{
			"cell_type": "code",
			"execution_count": 59,
			"metadata": {},
			"outputs": [],
			"source": [
				"def fit_softmax_classifier(X_train, y_onehot_train, alpha, n_iter):\n",
				"    #Initial theta initialized randomly\n",
				"    # theta0 = np.random.rand(X_train.shape[1], y_onehot_train.shape[1])\n",
				"    #Initial theta zero-initialized\n",
				"    theta0 = np.zeros((X_train.shape[1], y_onehot_train.shape[1]))\n",
				"    theta_final, log_l_history = gradient_descent(theta0, X_train, y_onehot_train, alpha, n_iter)\n",
				"    return theta0, theta_final, log_l_history"
			]
		},
		{
			"cell_type": "markdown",
			"metadata": {
				"id": "EjZMkNYF3uGK"
			},
			"source": [
				"--------------------------------------------\n",
				"**Do not write below this line, just run it**\n",
				"\n",
				"--------------------------------------------"
			]
		},
		{
			"cell_type": "code",
			"execution_count": 60,
			"metadata": {},
			"outputs": [],
			"source": [
				"theta0, theta_final, log_l_history = fit_softmax_classifier(X_train, y_onehot_train, alpha=1e04, n_iter=1000)"
			]
		},
		{
			"cell_type": "code",
			"execution_count": 61,
			"metadata": {
				"colab": {
					"base_uri": "https://localhost:8080/",
					"height": 279
				},
				"id": "7aeGcjlmAbOk",
				"outputId": "db89250c-300c-433b-b050-f8f9e703c82e"
			},
			"outputs": [
				{
					"data": {
						"image/png": "[encoded data removed]",
						"text/plain": [
							"<Figure size 640x480 with 1 Axes>"
						]
					},
					"metadata": {},
					"output_type": "display_data"
				}
			],
			"source": [
				"fig,ax = plt.subplots(num=2)\n",
				"\n",
				"ax.set_ylabel('loss')\n",
				"ax.set_xlabel('Iterations')\n",
				"_=ax.plot(range(len(log_l_history)), log_l_history,'b.')"
			]
		},
		{
			"cell_type": "code",
			"execution_count": 58,
			"metadata": {
				"colab": {
					"base_uri": "https://localhost:8080/"
				},
				"id": "WL1L9GkJ6udj",
				"outputId": "16a00d08-1382-4773-90c4-c95f8a0c8a97"
			},
			"outputs": [
				{
					"name": "stdout",
					"output_type": "stream",
					"text": [
						"Accuracy with random parameters on train set: 0.09892\n",
						"Accuracy with learned parameters on train set: 0.78384\n",
						"Accuracy with random parameters on test set: 0.0969\n",
						"Accuracy with learned parameters on test set: 0.7631\n"
					]
				}
			],
			"source": [
				"theta0 = np.random.rand(X_train.shape[1], 10)\n",
				"\n",
				"acc_rand_train = compute_accuracy(theta0, X_train, y_train)\n",
				"acc_train = compute_accuracy(theta_final, X_train, y_train)\n",
				"\n",
				"acc_rand_test = compute_accuracy(theta0, X_test, y_test)\n",
				"acc_test = compute_accuracy(theta_final, X_test, y_test)\n",
				"\n",
				"print(f\"Accuracy with random parameters on train set: {acc_rand_train}\")\n",
				"print(f\"Accuracy with learned parameters on train set: {acc_train}\")\n",
				"print(f\"Accuracy with random parameters on test set: {acc_rand_test}\")\n",
				"print(f\"Accuracy with learned parameters on test set: {acc_test}\")"
			]
		},
		{
			"cell_type": "markdown",
			"metadata": {
				"id": "JfeUj_a2tzyA"
			},
			"source": [
				"### **Question 4.3: Report _(1/5 points)_**"
			]
		},
		{
			"cell_type": "markdown",
			"metadata": {
				"id": "rX7ER-VEt7yR"
			},
			"source": [
				"Write a report comparing the results obtained with the two different classifiers.\n",
				"\n",
				"Try to answer the following questions:\n",
				"- Which classifier performs better? Why? Is there a trade-off between the two in terms of perfomance/computation time?\n",
				"- Do the classifiers obtain the same accuracy on train and test sets? If not, try to give an explanation.\n",
				"- What values of alpha are best to train the two classifiers and what is the optimal number of iterations? "
			]
		},
		{
			"cell_type": "markdown",
			"metadata": {
				"id": "q-ZKiBhivNBN"
			},
			"source": [
				"--------------------------------------------\n",
				"**Write your report below this line**\n",
				"\n",
				"--------------------------------------------"
			]
		},
		{
			"cell_type": "markdown",
			"metadata": {
				"id": "I1MmdSzmvr2u"
			},
			"source": [
				"--------------------------------------------\n",
				"Answers to the questions:\n",
				"- Which classifier performs better? Why? Is there a trade-off between the two in terms of perfomance/computation time?\n",
				"\n",
				"The Softmax Classifier performs way better with a certain number of iterations (and a proper learning rate). This is due to the fact that KNN classifier is quite simplistic: the classification is done by considering the K nearest neighbors of the point we want to classify and at the end we assign the point a label by majority vote. We don't consider all data but only K examples and choosing the value of K is pretty crucial for the model in order to avoid overfitting or underfitting. On the other hand, the softmax classifier considers all the examples at each iteration (in our case batch gradient descent is used) and allows to reduce the cost by adjusting the weights at each iteration.\n",
				"Of course there is a trade-off between performance and computation time: on the given dataset KNN classifier is faster than the softmax classification (assuming to use a pretty high number of iterations) but the performance of the latter is higher (using a proper learning rate).\n",
				"\n",
				"- Do the classifiers obtain the same accuracy on train and test sets? If not, try to give an explanation.\n",
				"\n",
				"We've noticed that for KNN classifier, using a big K we have that the accuracy in the training set is higher and the accuracy in the test set is lower. This is due to the overfitting, in fact in this case the generalization is too low leading samples to be wrongly classified during the testing phase. A specular situation happens with a small K, in fact in this case we notice the model was underfitting. For the softmax classifier, we noticed about the same trend: using a bigger alpha the testing accuracy was lower than the training accuracy while using a smaller alpha the accuracy was actually more or less the same but the model was really slow to converge.\n",
				"\n",
				"- What values of alpha are best to train the two classifiers and what is the optimal number of iterations?\n",
				"\n",
				"After carrying out some tests with different values, we managed to get a testing accuracy of 0.7371 with KNN classifier using K=13. Increasing or decreasing the number of neighbors by some value slightly decreases the accuracy. For what concerns the Softmax Classifier, we found out that using a small alpha, performances were better but convergence was really slow and we needed to use a higher number of iterations to get a decent accuracy. The best accuracy we managed to obtain is ~0.82 on the training set and ~0.79 on the testing set, but lowering the learning rate and increasing the number of iterations of a certain value, performances might have been better.\n",
				"\n",
				"--------------------------------------------"
			]
		},
		{
			"cell_type": "markdown",
			"metadata": {
				"tags": []
			},
			"source": [
				"### **Code used to create the dataset _(no points)_**"
			]
		},
		{
			"cell_type": "markdown",
			"metadata": {},
			"source": [
				"This part of the homework will not give you any points and it is not needed to complete the assignment, so please don't ask for help before the deadline if you are not able to run it.\n",
				"\n",
				"Run only if you have the following minimum requirements:\n",
				"- Google Colab with GPU runtime active (Runtime -> Change runtime type -> GPU) or a PC/laptop with a relatively capable GPU (minimum 4GB of VRAM)\n",
				"- High speed connection and minimum 4GB of free storage\n",
				"    - the download of the dataset and the weights of the pre-trained AlexNet have large sizes!"
			]
		},
		{
			"cell_type": "code",
			"execution_count": null,
			"metadata": {
				"colab": {
					"base_uri": "https://localhost:8080/"
				},
				"id": "x8u-MqU3MNqU",
				"outputId": "49b070dd-ea14-40be-ce0c-063fba48a6ea"
			},
			"outputs": [],
			"source": [
				"# import useful libraries and functions\n",
				"import torch\n",
				"import torch.nn as nn\n",
				"import torch.nn.functional as F\n",
				"import torchvision\n",
				"import torchvision.transforms as transforms\n",
				"import numpy as np\n",
				"\n",
				"from sklearn.preprocessing import normalize\n",
				"from tqdm import tqdm\n",
				"\n",
				"torch.manual_seed(123)\n",
				"np.random.seed(123)"
			]
		},
		{
			"cell_type": "code",
			"execution_count": null,
			"metadata": {
				"colab": {
					"base_uri": "https://localhost:8080/",
					"height": 264,
					"referenced_widgets": [
						"343ad567bdb7470e8ba3d4824dad8e9e",
						"9b85ec7c5fde4e4894e6f83e1d42af6c",
						"e6a8d31b14104404811f5ed4937c38ce",
						"8e987be3cbd3497c8f801119767c8d2e",
						"7300d856cf024722a3cfbb698e155459",
						"173d96a8d0aa43dea1cf13f59375cef2",
						"9c581af7aeff4d7cb658cbaa9882f74b",
						"5ce6d13234a44e2bac7d384dce6223ec",
						"3a121f906d0841fb83e103fc1bb079d0",
						"c54f82f0ca2e4d27943658d4264073e7",
						"1e327017e66647e6a303edeb7e78b89d",
						"b8447924d6924126b153f9db22adc177",
						"e3c6aaa08d4544038d5f8a18a8695824",
						"97c6955419174578b45e31ac1e394f12",
						"8766187802cb4b77b24ca1789771eb79",
						"6d7002390e5c45f386e7feb8d1c7ea12",
						"f19a4d38898840cfaa218fd3a361de05",
						"7f37fbdf0c63401a8aea07acfbc5a98a",
						"c4e88ce6380a4999a1bfde5f6ae45f22",
						"cbb46801779b4ef186eb2ff0d88120b7",
						"7d66f69f608c4a1a85ea5fda888dbc60",
						"5a865865ab32483093b3431c01a5d0fe"
					]
				},
				"id": "CXg4t0a4E3-d",
				"outputId": "7a2b6f5d-06ff-4fbd-f7e0-a5cd752d9c42"
			},
			"outputs": [
				{
					"name": "stdout",
					"output_type": "stream",
					"text": [
						"Files already downloaded and verified\n",
						"Files already downloaded and verified\n"
					]
				},
				{
					"name": "stderr",
					"output_type": "stream",
					"text": [
						"Using cache found in /home/paolo/.cache/torch/hub/pytorch_vision_v0.10.0\n"
					]
				}
			],
			"source": [
				"# image transform for CIFAR-10 dataset\n",
				"transform = transforms.Compose([\n",
				"    transforms.Resize(256),\n",
				"    transforms.CenterCrop(224),\n",
				"    transforms.ToTensor(),\n",
				"    transforms.Normalize(mean=[0.485, 0.456, 0.406], std=[0.229, 0.224, 0.225]),\n",
				"])\n",
				"\n",
				"# download CIFAR-10 dataset for train and test\n",
				"train_data = torchvision.datasets.CIFAR10(root='./data', train=True, download=True, transform=transform)\n",
				"test_data = torchvision.datasets.CIFAR10(root='./data', train=False, download=True, transform=transform)\n",
				"\n",
				"# download pre-trained AlexNet\n",
				"pretrained_net = torch.hub.load('pytorch/vision:v0.10.0', 'alexnet', weights='AlexNet_Weights.DEFAULT')\n",
				"classes = ('plane', 'car', 'bird', 'cat',\n",
				"           'deer', 'dog', 'frog', 'horse', 'ship', 'truck')\n",
				"\n",
				"# define the device you will use for training (cpu or cuda)\n",
				"device = torch.device(\"cuda:0\" if torch.cuda.is_available() else \"cpu\")"
			]
		},
		{
			"cell_type": "markdown",
			"metadata": {
				"id": "Vb8TgNerlJNo"
			},
			"source": [
				"Let's take a look at it!\n",
				"\n",
				"The network is composed by a backbone with multiple Conv2d, ReLU and MaxPool2d layers, by an average pooling layer, and by a classifier.\n",
				"\n",
				"We are going to use just the backbone of the pre-trained AlexNet (the layers included into *(features)*) and we will define a new classifier. We will train everything together on the CIFAR-10 dataset and we will leverage the pre-trained weights of the backbone to obtain high classification accuracy with just a few epochs of training. This is the power of Transfer Learning!"
			]
		},
		{
			"cell_type": "code",
			"execution_count": null,
			"metadata": {
				"colab": {
					"base_uri": "https://localhost:8080/"
				},
				"id": "WRIjVcp9Iygg",
				"outputId": "42ef21f7-a8fb-433b-baaf-e58d4bdc33ef"
			},
			"outputs": [
				{
					"data": {
						"text/plain": [
							"AlexNet(\n",
							"  (features): Sequential(\n",
							"    (0): Conv2d(3, 64, kernel_size=(11, 11), stride=(4, 4), padding=(2, 2))\n",
							"    (1): ReLU(inplace=True)\n",
							"    (2): MaxPool2d(kernel_size=3, stride=2, padding=0, dilation=1, ceil_mode=False)\n",
							"    (3): Conv2d(64, 192, kernel_size=(5, 5), stride=(1, 1), padding=(2, 2))\n",
							"    (4): ReLU(inplace=True)\n",
							"    (5): MaxPool2d(kernel_size=3, stride=2, padding=0, dilation=1, ceil_mode=False)\n",
							"    (6): Conv2d(192, 384, kernel_size=(3, 3), stride=(1, 1), padding=(1, 1))\n",
							"    (7): ReLU(inplace=True)\n",
							"    (8): Conv2d(384, 256, kernel_size=(3, 3), stride=(1, 1), padding=(1, 1))\n",
							"    (9): ReLU(inplace=True)\n",
							"    (10): Conv2d(256, 256, kernel_size=(3, 3), stride=(1, 1), padding=(1, 1))\n",
							"    (11): ReLU(inplace=True)\n",
							"    (12): MaxPool2d(kernel_size=3, stride=2, padding=0, dilation=1, ceil_mode=False)\n",
							"  )\n",
							"  (avgpool): AdaptiveAvgPool2d(output_size=(6, 6))\n",
							"  (classifier): Sequential(\n",
							"    (0): Dropout(p=0.5, inplace=False)\n",
							"    (1): Linear(in_features=9216, out_features=4096, bias=True)\n",
							"    (2): ReLU(inplace=True)\n",
							"    (3): Dropout(p=0.5, inplace=False)\n",
							"    (4): Linear(in_features=4096, out_features=4096, bias=True)\n",
							"    (5): ReLU(inplace=True)\n",
							"    (6): Linear(in_features=4096, out_features=1000, bias=True)\n",
							"  )\n",
							")"
						]
					},
					"execution_count": 50,
					"metadata": {},
					"output_type": "execute_result"
				}
			],
			"source": [
				"pretrained_net"
			]
		},
		{
			"cell_type": "code",
			"execution_count": null,
			"metadata": {
				"id": "oXYDmSnA-iWu"
			},
			"outputs": [],
			"source": [
				"# create train and test dataloaders\n",
				"trainloader = torch.utils.data.DataLoader(train_data, batch_size=256, shuffle=True, num_workers=2)\n",
				"testloader = torch.utils.data.DataLoader(test_data, batch_size=256, shuffle=True, num_workers=2)"
			]
		},
		{
			"cell_type": "code",
			"execution_count": null,
			"metadata": {
				"colab": {
					"base_uri": "https://localhost:8080/"
				},
				"id": "5jCJnID--qdT",
				"outputId": "4f3e220e-cbd1-4a3e-989c-e35ea856e686"
			},
			"outputs": [
				{
					"data": {
						"text/plain": [
							"Sequential(\n",
							"  (0): Conv2d(3, 64, kernel_size=(11, 11), stride=(4, 4), padding=(2, 2))\n",
							"  (1): ReLU(inplace=True)\n",
							"  (2): MaxPool2d(kernel_size=3, stride=2, padding=0, dilation=1, ceil_mode=False)\n",
							"  (3): Conv2d(64, 192, kernel_size=(5, 5), stride=(1, 1), padding=(2, 2))\n",
							"  (4): ReLU(inplace=True)\n",
							"  (5): MaxPool2d(kernel_size=3, stride=2, padding=0, dilation=1, ceil_mode=False)\n",
							"  (6): Conv2d(192, 384, kernel_size=(3, 3), stride=(1, 1), padding=(1, 1))\n",
							"  (7): ReLU(inplace=True)\n",
							"  (8): Conv2d(384, 256, kernel_size=(3, 3), stride=(1, 1), padding=(1, 1))\n",
							"  (9): ReLU(inplace=True)\n",
							"  (10): Conv2d(256, 256, kernel_size=(3, 3), stride=(1, 1), padding=(1, 1))\n",
							"  (11): ReLU(inplace=True)\n",
							"  (12): MaxPool2d(kernel_size=9, stride=4, padding=0, dilation=1, ceil_mode=False)\n",
							")"
						]
					},
					"execution_count": 56,
					"metadata": {},
					"output_type": "execute_result"
				}
			],
			"source": [
				"# define the encoder network to obtain image embeddings\n",
				"encoder = pretrained_net.features.to(device).eval()\n",
				"encoder[12] = nn.MaxPool2d(kernel_size=9, stride=4)\n",
				"encoder"
			]
		},
		{
			"cell_type": "code",
			"execution_count": null,
			"metadata": {
				"id": "HVEXZ8to-5Rc"
			},
			"outputs": [],
			"source": [
				"def create_dataset(loader, feat_size, num_classes):\n",
				"    X = np.empty((0, feat_size))\n",
				"    y_onehot = np.empty((0, num_classes))\n",
				"\n",
				"    for i, data in tqdm(enumerate(loader), total=len(loader)):\n",
				"        images, labels = data[0].to(device), data[1].to(device)\n",
				"        emb = encoder(images)\n",
				"        emb = torch.flatten(emb, 1).detach().cpu().numpy()\n",
				"        X = np.concatenate((X, emb))\n",
				"        y_temp = nn.functional.one_hot(labels, 10).detach().cpu().numpy()\n",
				"        y_onehot = np.concatenate((y_onehot, y_temp))\n",
				"\n",
				"    X = normalize(X, axis=1, norm='l1')\n",
				"    y = np.argmax(y_onehot, axis=1)\n",
				"    return X, y, y_onehot"
			]
		},
		{
			"cell_type": "code",
			"execution_count": null,
			"metadata": {
				"colab": {
					"base_uri": "https://localhost:8080/",
					"height": 117,
					"referenced_widgets": [
						"d153dc73d4df4463842686ddbb227ee3",
						"c827984965ef4612a1d5d138c20de6e9",
						"d52b666da38f42f8896ed3bbd7da956a",
						"ea7860891ec64d28932f08046bdb7a92",
						"30953452ec8a4d09a553f6bd030a6d27",
						"f82766164d9b470fa03c66f1d34e6c69",
						"87e7b009b1db43b6a7db647e052967b4",
						"c7a0b3360b394c60b8b0f5bce0d72c2b",
						"1dda0da631be4a079674aa66ae4f7b69",
						"a4381c7f7d2a4757965495094ebdf711",
						"3abc10c85b204a7cba1c0268ff44659e",
						"faa46515785b4e34b584082dbafb26ac",
						"a5bb0fb882d241ae85db6e5d16677d7e",
						"4e4192ec8f4c4d7183e76b37b506d5ab",
						"850bf79cb47a418ba4be814b84f506c7",
						"94368ef5b77b4ca8bf493f8454cd386a",
						"b4d08eebbbe44aa2b245afaee8c4fcfc",
						"878a455446de48b2b18f159f4a5d84bb",
						"2e0f4df5ebae4994946d23cdff4311a6",
						"c241f887a4ec4c4d8fd5c08862c462c0",
						"5a230e90e0804396b0e2ef6b63f0d136",
						"f42fb8492e0b4885945d5cf378dcd6e3"
					]
				},
				"id": "HWUqA4BD_3JI",
				"outputId": "c0db6204-71b0-481a-e2ba-332e8c9dcbf3"
			},
			"outputs": [
				{
					"name": "stdout",
					"output_type": "stream",
					"text": [
						"Preparing train data...\n"
					]
				},
				{
					"data": {
						"application/vnd.jupyter.widget-view+json": {
							"model_id": "d26fa8cb23204b159a3d346b06e01064",
							"version_major": 2,
							"version_minor": 0
						},
						"text/plain": [
							"  0%|          | 0/196 [00:00<?, ?it/s]"
						]
					},
					"metadata": {},
					"output_type": "display_data"
				},
				{
					"name": "stdout",
					"output_type": "stream",
					"text": [
						"Preparing test data...\n"
					]
				},
				{
					"data": {
						"application/vnd.jupyter.widget-view+json": {
							"model_id": "3c422701025e4d21bb01511ae838ff7c",
							"version_major": 2,
							"version_minor": 0
						},
						"text/plain": [
							"  0%|          | 0/40 [00:00<?, ?it/s]"
						]
					},
					"metadata": {},
					"output_type": "display_data"
				}
			],
			"source": [
				"print(\"Preparing train data...\")\n",
				"X_train, y_train, y_onehot_train = create_dataset(trainloader, 1024, 10)\n",
				"print(\"Preparing test data...\")\n",
				"X_test, y_test, _ = create_dataset(testloader, 1024, 10)"
			]
		},
		{
			"cell_type": "code",
			"execution_count": null,
			"metadata": {
				"id": "2GmSd0ifHVhp"
			},
			"outputs": [],
			"source": [
				"np.save('./processed_data/X_train.npy', X_train)\n",
				"np.save('./processed_data/y_train.npy', y_train)\n",
				"np.save('./processed_data/y_onehot_train.npy', y_onehot_train)\n",
				"\n",
				"np.save('./processed_data/X_test.npy', X_test)\n",
				"np.save('./processed_data/y_test.npy', y_test)"
			]
		}
	],
	"metadata": {
		"accelerator": "GPU",
		"colab": {
			"collapsed_sections": [],
			"provenance": []
		},
		"kernelspec": {
			"display_name": "Python 3.10.6 ('assignment2')",
			"language": "python",
			"name": "python3"
		},
		"language_info": {
			"codemirror_mode": {
				"name": "ipython",
				"version": 3
			},
			"file_extension": ".py",
			"mimetype": "text/x-python",
			"name": "python",
			"nbconvert_exporter": "python",
			"pygments_lexer": "ipython3",
			"version": "3.10.6"
		},
		"varInspector": {
			"cols": {
				"lenName": 16,
				"lenType": 16,
				"lenVar": 40
			},
			"kernels_config": {
				"python": {
					"delete_cmd_postfix": "",
					"delete_cmd_prefix": "del ",
					"library": "var_list.py",
					"varRefreshCmd": "print(var_dic_list())"
				},
				"r": {
					"delete_cmd_postfix": ") ",
					"delete_cmd_prefix": "rm(",
					"library": "var_list.r",
					"varRefreshCmd": "cat(var_dic_list()) "
				}
			},
			"types_to_exclude": [
				"module",
				"function",
				"builtin_function_or_method",
				"instance",
				"_Feature"
			],
			"window_display": false
		},
		"vscode": {
			"interpreter": {
				"hash": "9b26e8f3eb29a2f89ae571262a490387a86c137386059713c9b363089eb2be22"
			}
		},
		"widgets": {
			"application/vnd.jupyter.widget-state+json": {
				"173d96a8d0aa43dea1cf13f59375cef2": {
					"model_module": "@jupyter-widgets/base",
					"model_module_version": "1.2.0",
					"model_name": "LayoutModel",
					"state": {
						"_model_module": "@jupyter-widgets/base",
						"_model_module_version": "1.2.0",
						"_model_name": "LayoutModel",
						"_view_count": null,
						"_view_module": "@jupyter-widgets/base",
						"_view_module_version": "1.2.0",
						"_view_name": "LayoutView",
						"align_content": null,
						"align_items": null,
						"align_self": null,
						"border": null,
						"bottom": null,
						"display": null,
						"flex": null,
						"flex_flow": null,
						"grid_area": null,
						"grid_auto_columns": null,
						"grid_auto_flow": null,
						"grid_auto_rows": null,
						"grid_column": null,
						"grid_gap": null,
						"grid_row": null,
						"grid_template_areas": null,
						"grid_template_columns": null,
						"grid_template_rows": null,
						"height": null,
						"justify_content": null,
						"justify_items": null,
						"left": null,
						"margin": null,
						"max_height": null,
						"max_width": null,
						"min_height": null,
						"min_width": null,
						"object_fit": null,
						"object_position": null,
						"order": null,
						"overflow": null,
						"overflow_x": null,
						"overflow_y": null,
						"padding": null,
						"right": null,
						"top": null,
						"visibility": null,
						"width": null
					}
				},
				"1dda0da631be4a079674aa66ae4f7b69": {
					"model_module": "@jupyter-widgets/controls",
					"model_module_version": "1.5.0",
					"model_name": "ProgressStyleModel",
					"state": {
						"_model_module": "@jupyter-widgets/controls",
						"_model_module_version": "1.5.0",
						"_model_name": "ProgressStyleModel",
						"_view_count": null,
						"_view_module": "@jupyter-widgets/base",
						"_view_module_version": "1.2.0",
						"_view_name": "StyleView",
						"bar_color": null,
						"description_width": ""
					}
				},
				"1e327017e66647e6a303edeb7e78b89d": {
					"model_module": "@jupyter-widgets/controls",
					"model_module_version": "1.5.0",
					"model_name": "DescriptionStyleModel",
					"state": {
						"_model_module": "@jupyter-widgets/controls",
						"_model_module_version": "1.5.0",
						"_model_name": "DescriptionStyleModel",
						"_view_count": null,
						"_view_module": "@jupyter-widgets/base",
						"_view_module_version": "1.2.0",
						"_view_name": "StyleView",
						"description_width": ""
					}
				},
				"2799c00ab81c401eaecae4f9ad81ffc1": {
					"model_module": "@jupyter-widgets/base",
					"model_module_version": "1.2.0",
					"model_name": "LayoutModel",
					"state": {
						"_model_module": "@jupyter-widgets/base",
						"_model_module_version": "1.2.0",
						"_model_name": "LayoutModel",
						"_view_count": null,
						"_view_module": "@jupyter-widgets/base",
						"_view_module_version": "1.2.0",
						"_view_name": "LayoutView",
						"align_content": null,
						"align_items": null,
						"align_self": null,
						"border": null,
						"bottom": null,
						"display": null,
						"flex": null,
						"flex_flow": null,
						"grid_area": null,
						"grid_auto_columns": null,
						"grid_auto_flow": null,
						"grid_auto_rows": null,
						"grid_column": null,
						"grid_gap": null,
						"grid_row": null,
						"grid_template_areas": null,
						"grid_template_columns": null,
						"grid_template_rows": null,
						"height": null,
						"justify_content": null,
						"justify_items": null,
						"left": null,
						"margin": null,
						"max_height": null,
						"max_width": null,
						"min_height": null,
						"min_width": null,
						"object_fit": null,
						"object_position": null,
						"order": null,
						"overflow": null,
						"overflow_x": null,
						"overflow_y": null,
						"padding": null,
						"right": null,
						"top": null,
						"visibility": null,
						"width": null
					}
				},
				"2e0f4df5ebae4994946d23cdff4311a6": {
					"model_module": "@jupyter-widgets/base",
					"model_module_version": "1.2.0",
					"model_name": "LayoutModel",
					"state": {
						"_model_module": "@jupyter-widgets/base",
						"_model_module_version": "1.2.0",
						"_model_name": "LayoutModel",
						"_view_count": null,
						"_view_module": "@jupyter-widgets/base",
						"_view_module_version": "1.2.0",
						"_view_name": "LayoutView",
						"align_content": null,
						"align_items": null,
						"align_self": null,
						"border": null,
						"bottom": null,
						"display": null,
						"flex": null,
						"flex_flow": null,
						"grid_area": null,
						"grid_auto_columns": null,
						"grid_auto_flow": null,
						"grid_auto_rows": null,
						"grid_column": null,
						"grid_gap": null,
						"grid_row": null,
						"grid_template_areas": null,
						"grid_template_columns": null,
						"grid_template_rows": null,
						"height": null,
						"justify_content": null,
						"justify_items": null,
						"left": null,
						"margin": null,
						"max_height": null,
						"max_width": null,
						"min_height": null,
						"min_width": null,
						"object_fit": null,
						"object_position": null,
						"order": null,
						"overflow": null,
						"overflow_x": null,
						"overflow_y": null,
						"padding": null,
						"right": null,
						"top": null,
						"visibility": null,
						"width": null
					}
				},
				"30953452ec8a4d09a553f6bd030a6d27": {
					"model_module": "@jupyter-widgets/base",
					"model_module_version": "1.2.0",
					"model_name": "LayoutModel",
					"state": {
						"_model_module": "@jupyter-widgets/base",
						"_model_module_version": "1.2.0",
						"_model_name": "LayoutModel",
						"_view_count": null,
						"_view_module": "@jupyter-widgets/base",
						"_view_module_version": "1.2.0",
						"_view_name": "LayoutView",
						"align_content": null,
						"align_items": null,
						"align_self": null,
						"border": null,
						"bottom": null,
						"display": null,
						"flex": null,
						"flex_flow": null,
						"grid_area": null,
						"grid_auto_columns": null,
						"grid_auto_flow": null,
						"grid_auto_rows": null,
						"grid_column": null,
						"grid_gap": null,
						"grid_row": null,
						"grid_template_areas": null,
						"grid_template_columns": null,
						"grid_template_rows": null,
						"height": null,
						"justify_content": null,
						"justify_items": null,
						"left": null,
						"margin": null,
						"max_height": null,
						"max_width": null,
						"min_height": null,
						"min_width": null,
						"object_fit": null,
						"object_position": null,
						"order": null,
						"overflow": null,
						"overflow_x": null,
						"overflow_y": null,
						"padding": null,
						"right": null,
						"top": null,
						"visibility": null,
						"width": null
					}
				},
				"343ad567bdb7470e8ba3d4824dad8e9e": {
					"model_module": "@jupyter-widgets/controls",
					"model_module_version": "1.5.0",
					"model_name": "HBoxModel",
					"state": {
						"_dom_classes": [],
						"_model_module": "@jupyter-widgets/controls",
						"_model_module_version": "1.5.0",
						"_model_name": "HBoxModel",
						"_view_count": null,
						"_view_module": "@jupyter-widgets/controls",
						"_view_module_version": "1.5.0",
						"_view_name": "HBoxView",
						"box_style": "",
						"children": [
							"IPY_MODEL_9b85ec7c5fde4e4894e6f83e1d42af6c",
							"IPY_MODEL_e6a8d31b14104404811f5ed4937c38ce",
							"IPY_MODEL_8e987be3cbd3497c8f801119767c8d2e"
						],
						"layout": "IPY_MODEL_7300d856cf024722a3cfbb698e155459"
					}
				},
				"3a121f906d0841fb83e103fc1bb079d0": {
					"model_module": "@jupyter-widgets/controls",
					"model_module_version": "1.5.0",
					"model_name": "ProgressStyleModel",
					"state": {
						"_model_module": "@jupyter-widgets/controls",
						"_model_module_version": "1.5.0",
						"_model_name": "ProgressStyleModel",
						"_view_count": null,
						"_view_module": "@jupyter-widgets/base",
						"_view_module_version": "1.2.0",
						"_view_name": "StyleView",
						"bar_color": null,
						"description_width": ""
					}
				},
				"3abc10c85b204a7cba1c0268ff44659e": {
					"model_module": "@jupyter-widgets/controls",
					"model_module_version": "1.5.0",
					"model_name": "DescriptionStyleModel",
					"state": {
						"_model_module": "@jupyter-widgets/controls",
						"_model_module_version": "1.5.0",
						"_model_name": "DescriptionStyleModel",
						"_view_count": null,
						"_view_module": "@jupyter-widgets/base",
						"_view_module_version": "1.2.0",
						"_view_name": "StyleView",
						"description_width": ""
					}
				},
				"4e4192ec8f4c4d7183e76b37b506d5ab": {
					"model_module": "@jupyter-widgets/controls",
					"model_module_version": "1.5.0",
					"model_name": "FloatProgressModel",
					"state": {
						"_dom_classes": [],
						"_model_module": "@jupyter-widgets/controls",
						"_model_module_version": "1.5.0",
						"_model_name": "FloatProgressModel",
						"_view_count": null,
						"_view_module": "@jupyter-widgets/controls",
						"_view_module_version": "1.5.0",
						"_view_name": "ProgressView",
						"bar_style": "success",
						"description": "",
						"description_tooltip": null,
						"layout": "IPY_MODEL_2e0f4df5ebae4994946d23cdff4311a6",
						"max": 40,
						"min": 0,
						"orientation": "horizontal",
						"style": "IPY_MODEL_c241f887a4ec4c4d8fd5c08862c462c0",
						"value": 40
					}
				},
				"5181fbee1d0f4312a477609960a53a98": {
					"model_module": "@jupyter-widgets/controls",
					"model_module_version": "1.5.0",
					"model_name": "DescriptionStyleModel",
					"state": {
						"_model_module": "@jupyter-widgets/controls",
						"_model_module_version": "1.5.0",
						"_model_name": "DescriptionStyleModel",
						"_view_count": null,
						"_view_module": "@jupyter-widgets/base",
						"_view_module_version": "1.2.0",
						"_view_name": "StyleView",
						"description_width": ""
					}
				},
				"5a230e90e0804396b0e2ef6b63f0d136": {
					"model_module": "@jupyter-widgets/base",
					"model_module_version": "1.2.0",
					"model_name": "LayoutModel",
					"state": {
						"_model_module": "@jupyter-widgets/base",
						"_model_module_version": "1.2.0",
						"_model_name": "LayoutModel",
						"_view_count": null,
						"_view_module": "@jupyter-widgets/base",
						"_view_module_version": "1.2.0",
						"_view_name": "LayoutView",
						"align_content": null,
						"align_items": null,
						"align_self": null,
						"border": null,
						"bottom": null,
						"display": null,
						"flex": null,
						"flex_flow": null,
						"grid_area": null,
						"grid_auto_columns": null,
						"grid_auto_flow": null,
						"grid_auto_rows": null,
						"grid_column": null,
						"grid_gap": null,
						"grid_row": null,
						"grid_template_areas": null,
						"grid_template_columns": null,
						"grid_template_rows": null,
						"height": null,
						"justify_content": null,
						"justify_items": null,
						"left": null,
						"margin": null,
						"max_height": null,
						"max_width": null,
						"min_height": null,
						"min_width": null,
						"object_fit": null,
						"object_position": null,
						"order": null,
						"overflow": null,
						"overflow_x": null,
						"overflow_y": null,
						"padding": null,
						"right": null,
						"top": null,
						"visibility": null,
						"width": null
					}
				},
				"5a865865ab32483093b3431c01a5d0fe": {
					"model_module": "@jupyter-widgets/controls",
					"model_module_version": "1.5.0",
					"model_name": "DescriptionStyleModel",
					"state": {
						"_model_module": "@jupyter-widgets/controls",
						"_model_module_version": "1.5.0",
						"_model_name": "DescriptionStyleModel",
						"_view_count": null,
						"_view_module": "@jupyter-widgets/base",
						"_view_module_version": "1.2.0",
						"_view_name": "StyleView",
						"description_width": ""
					}
				},
				"5ce6d13234a44e2bac7d384dce6223ec": {
					"model_module": "@jupyter-widgets/base",
					"model_module_version": "1.2.0",
					"model_name": "LayoutModel",
					"state": {
						"_model_module": "@jupyter-widgets/base",
						"_model_module_version": "1.2.0",
						"_model_name": "LayoutModel",
						"_view_count": null,
						"_view_module": "@jupyter-widgets/base",
						"_view_module_version": "1.2.0",
						"_view_name": "LayoutView",
						"align_content": null,
						"align_items": null,
						"align_self": null,
						"border": null,
						"bottom": null,
						"display": null,
						"flex": null,
						"flex_flow": null,
						"grid_area": null,
						"grid_auto_columns": null,
						"grid_auto_flow": null,
						"grid_auto_rows": null,
						"grid_column": null,
						"grid_gap": null,
						"grid_row": null,
						"grid_template_areas": null,
						"grid_template_columns": null,
						"grid_template_rows": null,
						"height": null,
						"justify_content": null,
						"justify_items": null,
						"left": null,
						"margin": null,
						"max_height": null,
						"max_width": null,
						"min_height": null,
						"min_width": null,
						"object_fit": null,
						"object_position": null,
						"order": null,
						"overflow": null,
						"overflow_x": null,
						"overflow_y": null,
						"padding": null,
						"right": null,
						"top": null,
						"visibility": null,
						"width": null
					}
				},
				"6d7002390e5c45f386e7feb8d1c7ea12": {
					"model_module": "@jupyter-widgets/base",
					"model_module_version": "1.2.0",
					"model_name": "LayoutModel",
					"state": {
						"_model_module": "@jupyter-widgets/base",
						"_model_module_version": "1.2.0",
						"_model_name": "LayoutModel",
						"_view_count": null,
						"_view_module": "@jupyter-widgets/base",
						"_view_module_version": "1.2.0",
						"_view_name": "LayoutView",
						"align_content": null,
						"align_items": null,
						"align_self": null,
						"border": null,
						"bottom": null,
						"display": null,
						"flex": null,
						"flex_flow": null,
						"grid_area": null,
						"grid_auto_columns": null,
						"grid_auto_flow": null,
						"grid_auto_rows": null,
						"grid_column": null,
						"grid_gap": null,
						"grid_row": null,
						"grid_template_areas": null,
						"grid_template_columns": null,
						"grid_template_rows": null,
						"height": null,
						"justify_content": null,
						"justify_items": null,
						"left": null,
						"margin": null,
						"max_height": null,
						"max_width": null,
						"min_height": null,
						"min_width": null,
						"object_fit": null,
						"object_position": null,
						"order": null,
						"overflow": null,
						"overflow_x": null,
						"overflow_y": null,
						"padding": null,
						"right": null,
						"top": null,
						"visibility": null,
						"width": null
					}
				},
				"6fd381df348f4292bcc34d8417cbb389": {
					"model_module": "@jupyter-widgets/controls",
					"model_module_version": "1.5.0",
					"model_name": "HTMLModel",
					"state": {
						"_dom_classes": [],
						"_model_module": "@jupyter-widgets/controls",
						"_model_module_version": "1.5.0",
						"_model_name": "HTMLModel",
						"_view_count": null,
						"_view_module": "@jupyter-widgets/controls",
						"_view_module_version": "1.5.0",
						"_view_name": "HTMLView",
						"description": "",
						"description_tooltip": null,
						"layout": "IPY_MODEL_9ccd23c5e65e47b1a2a84d94f21a27b2",
						"placeholder": "​",
						"style": "IPY_MODEL_5181fbee1d0f4312a477609960a53a98",
						"value": " 100/100 [00:54&lt;00:00,  1.62it/s]"
					}
				},
				"7300d856cf024722a3cfbb698e155459": {
					"model_module": "@jupyter-widgets/base",
					"model_module_version": "1.2.0",
					"model_name": "LayoutModel",
					"state": {
						"_model_module": "@jupyter-widgets/base",
						"_model_module_version": "1.2.0",
						"_model_name": "LayoutModel",
						"_view_count": null,
						"_view_module": "@jupyter-widgets/base",
						"_view_module_version": "1.2.0",
						"_view_name": "LayoutView",
						"align_content": null,
						"align_items": null,
						"align_self": null,
						"border": null,
						"bottom": null,
						"display": null,
						"flex": null,
						"flex_flow": null,
						"grid_area": null,
						"grid_auto_columns": null,
						"grid_auto_flow": null,
						"grid_auto_rows": null,
						"grid_column": null,
						"grid_gap": null,
						"grid_row": null,
						"grid_template_areas": null,
						"grid_template_columns": null,
						"grid_template_rows": null,
						"height": null,
						"justify_content": null,
						"justify_items": null,
						"left": null,
						"margin": null,
						"max_height": null,
						"max_width": null,
						"min_height": null,
						"min_width": null,
						"object_fit": null,
						"object_position": null,
						"order": null,
						"overflow": null,
						"overflow_x": null,
						"overflow_y": null,
						"padding": null,
						"right": null,
						"top": null,
						"visibility": null,
						"width": null
					}
				},
				"73dbdc98597743a9a121b0b5046a0176": {
					"model_module": "@jupyter-widgets/controls",
					"model_module_version": "1.5.0",
					"model_name": "DescriptionStyleModel",
					"state": {
						"_model_module": "@jupyter-widgets/controls",
						"_model_module_version": "1.5.0",
						"_model_name": "DescriptionStyleModel",
						"_view_count": null,
						"_view_module": "@jupyter-widgets/base",
						"_view_module_version": "1.2.0",
						"_view_name": "StyleView",
						"description_width": ""
					}
				},
				"7d66f69f608c4a1a85ea5fda888dbc60": {
					"model_module": "@jupyter-widgets/base",
					"model_module_version": "1.2.0",
					"model_name": "LayoutModel",
					"state": {
						"_model_module": "@jupyter-widgets/base",
						"_model_module_version": "1.2.0",
						"_model_name": "LayoutModel",
						"_view_count": null,
						"_view_module": "@jupyter-widgets/base",
						"_view_module_version": "1.2.0",
						"_view_name": "LayoutView",
						"align_content": null,
						"align_items": null,
						"align_self": null,
						"border": null,
						"bottom": null,
						"display": null,
						"flex": null,
						"flex_flow": null,
						"grid_area": null,
						"grid_auto_columns": null,
						"grid_auto_flow": null,
						"grid_auto_rows": null,
						"grid_column": null,
						"grid_gap": null,
						"grid_row": null,
						"grid_template_areas": null,
						"grid_template_columns": null,
						"grid_template_rows": null,
						"height": null,
						"justify_content": null,
						"justify_items": null,
						"left": null,
						"margin": null,
						"max_height": null,
						"max_width": null,
						"min_height": null,
						"min_width": null,
						"object_fit": null,
						"object_position": null,
						"order": null,
						"overflow": null,
						"overflow_x": null,
						"overflow_y": null,
						"padding": null,
						"right": null,
						"top": null,
						"visibility": null,
						"width": null
					}
				},
				"7f37fbdf0c63401a8aea07acfbc5a98a": {
					"model_module": "@jupyter-widgets/controls",
					"model_module_version": "1.5.0",
					"model_name": "DescriptionStyleModel",
					"state": {
						"_model_module": "@jupyter-widgets/controls",
						"_model_module_version": "1.5.0",
						"_model_name": "DescriptionStyleModel",
						"_view_count": null,
						"_view_module": "@jupyter-widgets/base",
						"_view_module_version": "1.2.0",
						"_view_name": "StyleView",
						"description_width": ""
					}
				},
				"83fd93cdf1f9441598588f6a9fdd14ba": {
					"model_module": "@jupyter-widgets/controls",
					"model_module_version": "1.5.0",
					"model_name": "HBoxModel",
					"state": {
						"_dom_classes": [],
						"_model_module": "@jupyter-widgets/controls",
						"_model_module_version": "1.5.0",
						"_model_name": "HBoxModel",
						"_view_count": null,
						"_view_module": "@jupyter-widgets/controls",
						"_view_module_version": "1.5.0",
						"_view_name": "HBoxView",
						"box_style": "",
						"children": [
							"IPY_MODEL_853e257532044adb8ca354b9c366223a",
							"IPY_MODEL_a98d4e54dd3342e3b90eb5045c65c2d0",
							"IPY_MODEL_6fd381df348f4292bcc34d8417cbb389"
						],
						"layout": "IPY_MODEL_895f4ae0139945ef9f5e5190f5128cca"
					}
				},
				"850bf79cb47a418ba4be814b84f506c7": {
					"model_module": "@jupyter-widgets/controls",
					"model_module_version": "1.5.0",
					"model_name": "HTMLModel",
					"state": {
						"_dom_classes": [],
						"_model_module": "@jupyter-widgets/controls",
						"_model_module_version": "1.5.0",
						"_model_name": "HTMLModel",
						"_view_count": null,
						"_view_module": "@jupyter-widgets/controls",
						"_view_module_version": "1.5.0",
						"_view_name": "HTMLView",
						"description": "",
						"description_tooltip": null,
						"layout": "IPY_MODEL_5a230e90e0804396b0e2ef6b63f0d136",
						"placeholder": "​",
						"style": "IPY_MODEL_f42fb8492e0b4885945d5cf378dcd6e3",
						"value": " 40/40 [00:19&lt;00:00,  2.37it/s]"
					}
				},
				"853e257532044adb8ca354b9c366223a": {
					"model_module": "@jupyter-widgets/controls",
					"model_module_version": "1.5.0",
					"model_name": "HTMLModel",
					"state": {
						"_dom_classes": [],
						"_model_module": "@jupyter-widgets/controls",
						"_model_module_version": "1.5.0",
						"_model_name": "HTMLModel",
						"_view_count": null,
						"_view_module": "@jupyter-widgets/controls",
						"_view_module_version": "1.5.0",
						"_view_name": "HTMLView",
						"description": "",
						"description_tooltip": null,
						"layout": "IPY_MODEL_d9089b10055545839db575146b6aa8c9",
						"placeholder": "​",
						"style": "IPY_MODEL_73dbdc98597743a9a121b0b5046a0176",
						"value": "100%"
					}
				},
				"8766187802cb4b77b24ca1789771eb79": {
					"model_module": "@jupyter-widgets/controls",
					"model_module_version": "1.5.0",
					"model_name": "HTMLModel",
					"state": {
						"_dom_classes": [],
						"_model_module": "@jupyter-widgets/controls",
						"_model_module_version": "1.5.0",
						"_model_name": "HTMLModel",
						"_view_count": null,
						"_view_module": "@jupyter-widgets/controls",
						"_view_module_version": "1.5.0",
						"_view_name": "HTMLView",
						"description": "",
						"description_tooltip": null,
						"layout": "IPY_MODEL_7d66f69f608c4a1a85ea5fda888dbc60",
						"placeholder": "​",
						"style": "IPY_MODEL_5a865865ab32483093b3431c01a5d0fe",
						"value": " 233M/233M [00:01&lt;00:00, 151MB/s]"
					}
				},
				"878a455446de48b2b18f159f4a5d84bb": {
					"model_module": "@jupyter-widgets/controls",
					"model_module_version": "1.5.0",
					"model_name": "DescriptionStyleModel",
					"state": {
						"_model_module": "@jupyter-widgets/controls",
						"_model_module_version": "1.5.0",
						"_model_name": "DescriptionStyleModel",
						"_view_count": null,
						"_view_module": "@jupyter-widgets/base",
						"_view_module_version": "1.2.0",
						"_view_name": "StyleView",
						"description_width": ""
					}
				},
				"87e7b009b1db43b6a7db647e052967b4": {
					"model_module": "@jupyter-widgets/controls",
					"model_module_version": "1.5.0",
					"model_name": "DescriptionStyleModel",
					"state": {
						"_model_module": "@jupyter-widgets/controls",
						"_model_module_version": "1.5.0",
						"_model_name": "DescriptionStyleModel",
						"_view_count": null,
						"_view_module": "@jupyter-widgets/base",
						"_view_module_version": "1.2.0",
						"_view_name": "StyleView",
						"description_width": ""
					}
				},
				"895f4ae0139945ef9f5e5190f5128cca": {
					"model_module": "@jupyter-widgets/base",
					"model_module_version": "1.2.0",
					"model_name": "LayoutModel",
					"state": {
						"_model_module": "@jupyter-widgets/base",
						"_model_module_version": "1.2.0",
						"_model_name": "LayoutModel",
						"_view_count": null,
						"_view_module": "@jupyter-widgets/base",
						"_view_module_version": "1.2.0",
						"_view_name": "LayoutView",
						"align_content": null,
						"align_items": null,
						"align_self": null,
						"border": null,
						"bottom": null,
						"display": null,
						"flex": null,
						"flex_flow": null,
						"grid_area": null,
						"grid_auto_columns": null,
						"grid_auto_flow": null,
						"grid_auto_rows": null,
						"grid_column": null,
						"grid_gap": null,
						"grid_row": null,
						"grid_template_areas": null,
						"grid_template_columns": null,
						"grid_template_rows": null,
						"height": null,
						"justify_content": null,
						"justify_items": null,
						"left": null,
						"margin": null,
						"max_height": null,
						"max_width": null,
						"min_height": null,
						"min_width": null,
						"object_fit": null,
						"object_position": null,
						"order": null,
						"overflow": null,
						"overflow_x": null,
						"overflow_y": null,
						"padding": null,
						"right": null,
						"top": null,
						"visibility": null,
						"width": null
					}
				},
				"8e987be3cbd3497c8f801119767c8d2e": {
					"model_module": "@jupyter-widgets/controls",
					"model_module_version": "1.5.0",
					"model_name": "HTMLModel",
					"state": {
						"_dom_classes": [],
						"_model_module": "@jupyter-widgets/controls",
						"_model_module_version": "1.5.0",
						"_model_name": "HTMLModel",
						"_view_count": null,
						"_view_module": "@jupyter-widgets/controls",
						"_view_module_version": "1.5.0",
						"_view_name": "HTMLView",
						"description": "",
						"description_tooltip": null,
						"layout": "IPY_MODEL_c54f82f0ca2e4d27943658d4264073e7",
						"placeholder": "​",
						"style": "IPY_MODEL_1e327017e66647e6a303edeb7e78b89d",
						"value": " 170498071/170498071 [00:13&lt;00:00, 15558641.52it/s]"
					}
				},
				"94368ef5b77b4ca8bf493f8454cd386a": {
					"model_module": "@jupyter-widgets/base",
					"model_module_version": "1.2.0",
					"model_name": "LayoutModel",
					"state": {
						"_model_module": "@jupyter-widgets/base",
						"_model_module_version": "1.2.0",
						"_model_name": "LayoutModel",
						"_view_count": null,
						"_view_module": "@jupyter-widgets/base",
						"_view_module_version": "1.2.0",
						"_view_name": "LayoutView",
						"align_content": null,
						"align_items": null,
						"align_self": null,
						"border": null,
						"bottom": null,
						"display": null,
						"flex": null,
						"flex_flow": null,
						"grid_area": null,
						"grid_auto_columns": null,
						"grid_auto_flow": null,
						"grid_auto_rows": null,
						"grid_column": null,
						"grid_gap": null,
						"grid_row": null,
						"grid_template_areas": null,
						"grid_template_columns": null,
						"grid_template_rows": null,
						"height": null,
						"justify_content": null,
						"justify_items": null,
						"left": null,
						"margin": null,
						"max_height": null,
						"max_width": null,
						"min_height": null,
						"min_width": null,
						"object_fit": null,
						"object_position": null,
						"order": null,
						"overflow": null,
						"overflow_x": null,
						"overflow_y": null,
						"padding": null,
						"right": null,
						"top": null,
						"visibility": null,
						"width": null
					}
				},
				"97c6955419174578b45e31ac1e394f12": {
					"model_module": "@jupyter-widgets/controls",
					"model_module_version": "1.5.0",
					"model_name": "FloatProgressModel",
					"state": {
						"_dom_classes": [],
						"_model_module": "@jupyter-widgets/controls",
						"_model_module_version": "1.5.0",
						"_model_name": "FloatProgressModel",
						"_view_count": null,
						"_view_module": "@jupyter-widgets/controls",
						"_view_module_version": "1.5.0",
						"_view_name": "ProgressView",
						"bar_style": "success",
						"description": "",
						"description_tooltip": null,
						"layout": "IPY_MODEL_c4e88ce6380a4999a1bfde5f6ae45f22",
						"max": 244408911,
						"min": 0,
						"orientation": "horizontal",
						"style": "IPY_MODEL_cbb46801779b4ef186eb2ff0d88120b7",
						"value": 244408911
					}
				},
				"9b85ec7c5fde4e4894e6f83e1d42af6c": {
					"model_module": "@jupyter-widgets/controls",
					"model_module_version": "1.5.0",
					"model_name": "HTMLModel",
					"state": {
						"_dom_classes": [],
						"_model_module": "@jupyter-widgets/controls",
						"_model_module_version": "1.5.0",
						"_model_name": "HTMLModel",
						"_view_count": null,
						"_view_module": "@jupyter-widgets/controls",
						"_view_module_version": "1.5.0",
						"_view_name": "HTMLView",
						"description": "",
						"description_tooltip": null,
						"layout": "IPY_MODEL_173d96a8d0aa43dea1cf13f59375cef2",
						"placeholder": "​",
						"style": "IPY_MODEL_9c581af7aeff4d7cb658cbaa9882f74b",
						"value": "100%"
					}
				},
				"9c581af7aeff4d7cb658cbaa9882f74b": {
					"model_module": "@jupyter-widgets/controls",
					"model_module_version": "1.5.0",
					"model_name": "DescriptionStyleModel",
					"state": {
						"_model_module": "@jupyter-widgets/controls",
						"_model_module_version": "1.5.0",
						"_model_name": "DescriptionStyleModel",
						"_view_count": null,
						"_view_module": "@jupyter-widgets/base",
						"_view_module_version": "1.2.0",
						"_view_name": "StyleView",
						"description_width": ""
					}
				},
				"9ccd23c5e65e47b1a2a84d94f21a27b2": {
					"model_module": "@jupyter-widgets/base",
					"model_module_version": "1.2.0",
					"model_name": "LayoutModel",
					"state": {
						"_model_module": "@jupyter-widgets/base",
						"_model_module_version": "1.2.0",
						"_model_name": "LayoutModel",
						"_view_count": null,
						"_view_module": "@jupyter-widgets/base",
						"_view_module_version": "1.2.0",
						"_view_name": "LayoutView",
						"align_content": null,
						"align_items": null,
						"align_self": null,
						"border": null,
						"bottom": null,
						"display": null,
						"flex": null,
						"flex_flow": null,
						"grid_area": null,
						"grid_auto_columns": null,
						"grid_auto_flow": null,
						"grid_auto_rows": null,
						"grid_column": null,
						"grid_gap": null,
						"grid_row": null,
						"grid_template_areas": null,
						"grid_template_columns": null,
						"grid_template_rows": null,
						"height": null,
						"justify_content": null,
						"justify_items": null,
						"left": null,
						"margin": null,
						"max_height": null,
						"max_width": null,
						"min_height": null,
						"min_width": null,
						"object_fit": null,
						"object_position": null,
						"order": null,
						"overflow": null,
						"overflow_x": null,
						"overflow_y": null,
						"padding": null,
						"right": null,
						"top": null,
						"visibility": null,
						"width": null
					}
				},
				"a4381c7f7d2a4757965495094ebdf711": {
					"model_module": "@jupyter-widgets/base",
					"model_module_version": "1.2.0",
					"model_name": "LayoutModel",
					"state": {
						"_model_module": "@jupyter-widgets/base",
						"_model_module_version": "1.2.0",
						"_model_name": "LayoutModel",
						"_view_count": null,
						"_view_module": "@jupyter-widgets/base",
						"_view_module_version": "1.2.0",
						"_view_name": "LayoutView",
						"align_content": null,
						"align_items": null,
						"align_self": null,
						"border": null,
						"bottom": null,
						"display": null,
						"flex": null,
						"flex_flow": null,
						"grid_area": null,
						"grid_auto_columns": null,
						"grid_auto_flow": null,
						"grid_auto_rows": null,
						"grid_column": null,
						"grid_gap": null,
						"grid_row": null,
						"grid_template_areas": null,
						"grid_template_columns": null,
						"grid_template_rows": null,
						"height": null,
						"justify_content": null,
						"justify_items": null,
						"left": null,
						"margin": null,
						"max_height": null,
						"max_width": null,
						"min_height": null,
						"min_width": null,
						"object_fit": null,
						"object_position": null,
						"order": null,
						"overflow": null,
						"overflow_x": null,
						"overflow_y": null,
						"padding": null,
						"right": null,
						"top": null,
						"visibility": null,
						"width": null
					}
				},
				"a5bb0fb882d241ae85db6e5d16677d7e": {
					"model_module": "@jupyter-widgets/controls",
					"model_module_version": "1.5.0",
					"model_name": "HTMLModel",
					"state": {
						"_dom_classes": [],
						"_model_module": "@jupyter-widgets/controls",
						"_model_module_version": "1.5.0",
						"_model_name": "HTMLModel",
						"_view_count": null,
						"_view_module": "@jupyter-widgets/controls",
						"_view_module_version": "1.5.0",
						"_view_name": "HTMLView",
						"description": "",
						"description_tooltip": null,
						"layout": "IPY_MODEL_b4d08eebbbe44aa2b245afaee8c4fcfc",
						"placeholder": "​",
						"style": "IPY_MODEL_878a455446de48b2b18f159f4a5d84bb",
						"value": "100%"
					}
				},
				"a98d4e54dd3342e3b90eb5045c65c2d0": {
					"model_module": "@jupyter-widgets/controls",
					"model_module_version": "1.5.0",
					"model_name": "FloatProgressModel",
					"state": {
						"_dom_classes": [],
						"_model_module": "@jupyter-widgets/controls",
						"_model_module_version": "1.5.0",
						"_model_name": "FloatProgressModel",
						"_view_count": null,
						"_view_module": "@jupyter-widgets/controls",
						"_view_module_version": "1.5.0",
						"_view_name": "ProgressView",
						"bar_style": "success",
						"description": "",
						"description_tooltip": null,
						"layout": "IPY_MODEL_2799c00ab81c401eaecae4f9ad81ffc1",
						"max": 100,
						"min": 0,
						"orientation": "horizontal",
						"style": "IPY_MODEL_d6908f4457ee449da7671c9014048d6c",
						"value": 100
					}
				},
				"b4d08eebbbe44aa2b245afaee8c4fcfc": {
					"model_module": "@jupyter-widgets/base",
					"model_module_version": "1.2.0",
					"model_name": "LayoutModel",
					"state": {
						"_model_module": "@jupyter-widgets/base",
						"_model_module_version": "1.2.0",
						"_model_name": "LayoutModel",
						"_view_count": null,
						"_view_module": "@jupyter-widgets/base",
						"_view_module_version": "1.2.0",
						"_view_name": "LayoutView",
						"align_content": null,
						"align_items": null,
						"align_self": null,
						"border": null,
						"bottom": null,
						"display": null,
						"flex": null,
						"flex_flow": null,
						"grid_area": null,
						"grid_auto_columns": null,
						"grid_auto_flow": null,
						"grid_auto_rows": null,
						"grid_column": null,
						"grid_gap": null,
						"grid_row": null,
						"grid_template_areas": null,
						"grid_template_columns": null,
						"grid_template_rows": null,
						"height": null,
						"justify_content": null,
						"justify_items": null,
						"left": null,
						"margin": null,
						"max_height": null,
						"max_width": null,
						"min_height": null,
						"min_width": null,
						"object_fit": null,
						"object_position": null,
						"order": null,
						"overflow": null,
						"overflow_x": null,
						"overflow_y": null,
						"padding": null,
						"right": null,
						"top": null,
						"visibility": null,
						"width": null
					}
				},
				"b8447924d6924126b153f9db22adc177": {
					"model_module": "@jupyter-widgets/controls",
					"model_module_version": "1.5.0",
					"model_name": "HBoxModel",
					"state": {
						"_dom_classes": [],
						"_model_module": "@jupyter-widgets/controls",
						"_model_module_version": "1.5.0",
						"_model_name": "HBoxModel",
						"_view_count": null,
						"_view_module": "@jupyter-widgets/controls",
						"_view_module_version": "1.5.0",
						"_view_name": "HBoxView",
						"box_style": "",
						"children": [
							"IPY_MODEL_e3c6aaa08d4544038d5f8a18a8695824",
							"IPY_MODEL_97c6955419174578b45e31ac1e394f12",
							"IPY_MODEL_8766187802cb4b77b24ca1789771eb79"
						],
						"layout": "IPY_MODEL_6d7002390e5c45f386e7feb8d1c7ea12"
					}
				},
				"c241f887a4ec4c4d8fd5c08862c462c0": {
					"model_module": "@jupyter-widgets/controls",
					"model_module_version": "1.5.0",
					"model_name": "ProgressStyleModel",
					"state": {
						"_model_module": "@jupyter-widgets/controls",
						"_model_module_version": "1.5.0",
						"_model_name": "ProgressStyleModel",
						"_view_count": null,
						"_view_module": "@jupyter-widgets/base",
						"_view_module_version": "1.2.0",
						"_view_name": "StyleView",
						"bar_color": null,
						"description_width": ""
					}
				},
				"c4e88ce6380a4999a1bfde5f6ae45f22": {
					"model_module": "@jupyter-widgets/base",
					"model_module_version": "1.2.0",
					"model_name": "LayoutModel",
					"state": {
						"_model_module": "@jupyter-widgets/base",
						"_model_module_version": "1.2.0",
						"_model_name": "LayoutModel",
						"_view_count": null,
						"_view_module": "@jupyter-widgets/base",
						"_view_module_version": "1.2.0",
						"_view_name": "LayoutView",
						"align_content": null,
						"align_items": null,
						"align_self": null,
						"border": null,
						"bottom": null,
						"display": null,
						"flex": null,
						"flex_flow": null,
						"grid_area": null,
						"grid_auto_columns": null,
						"grid_auto_flow": null,
						"grid_auto_rows": null,
						"grid_column": null,
						"grid_gap": null,
						"grid_row": null,
						"grid_template_areas": null,
						"grid_template_columns": null,
						"grid_template_rows": null,
						"height": null,
						"justify_content": null,
						"justify_items": null,
						"left": null,
						"margin": null,
						"max_height": null,
						"max_width": null,
						"min_height": null,
						"min_width": null,
						"object_fit": null,
						"object_position": null,
						"order": null,
						"overflow": null,
						"overflow_x": null,
						"overflow_y": null,
						"padding": null,
						"right": null,
						"top": null,
						"visibility": null,
						"width": null
					}
				},
				"c54f82f0ca2e4d27943658d4264073e7": {
					"model_module": "@jupyter-widgets/base",
					"model_module_version": "1.2.0",
					"model_name": "LayoutModel",
					"state": {
						"_model_module": "@jupyter-widgets/base",
						"_model_module_version": "1.2.0",
						"_model_name": "LayoutModel",
						"_view_count": null,
						"_view_module": "@jupyter-widgets/base",
						"_view_module_version": "1.2.0",
						"_view_name": "LayoutView",
						"align_content": null,
						"align_items": null,
						"align_self": null,
						"border": null,
						"bottom": null,
						"display": null,
						"flex": null,
						"flex_flow": null,
						"grid_area": null,
						"grid_auto_columns": null,
						"grid_auto_flow": null,
						"grid_auto_rows": null,
						"grid_column": null,
						"grid_gap": null,
						"grid_row": null,
						"grid_template_areas": null,
						"grid_template_columns": null,
						"grid_template_rows": null,
						"height": null,
						"justify_content": null,
						"justify_items": null,
						"left": null,
						"margin": null,
						"max_height": null,
						"max_width": null,
						"min_height": null,
						"min_width": null,
						"object_fit": null,
						"object_position": null,
						"order": null,
						"overflow": null,
						"overflow_x": null,
						"overflow_y": null,
						"padding": null,
						"right": null,
						"top": null,
						"visibility": null,
						"width": null
					}
				},
				"c7a0b3360b394c60b8b0f5bce0d72c2b": {
					"model_module": "@jupyter-widgets/base",
					"model_module_version": "1.2.0",
					"model_name": "LayoutModel",
					"state": {
						"_model_module": "@jupyter-widgets/base",
						"_model_module_version": "1.2.0",
						"_model_name": "LayoutModel",
						"_view_count": null,
						"_view_module": "@jupyter-widgets/base",
						"_view_module_version": "1.2.0",
						"_view_name": "LayoutView",
						"align_content": null,
						"align_items": null,
						"align_self": null,
						"border": null,
						"bottom": null,
						"display": null,
						"flex": null,
						"flex_flow": null,
						"grid_area": null,
						"grid_auto_columns": null,
						"grid_auto_flow": null,
						"grid_auto_rows": null,
						"grid_column": null,
						"grid_gap": null,
						"grid_row": null,
						"grid_template_areas": null,
						"grid_template_columns": null,
						"grid_template_rows": null,
						"height": null,
						"justify_content": null,
						"justify_items": null,
						"left": null,
						"margin": null,
						"max_height": null,
						"max_width": null,
						"min_height": null,
						"min_width": null,
						"object_fit": null,
						"object_position": null,
						"order": null,
						"overflow": null,
						"overflow_x": null,
						"overflow_y": null,
						"padding": null,
						"right": null,
						"top": null,
						"visibility": null,
						"width": null
					}
				},
				"c827984965ef4612a1d5d138c20de6e9": {
					"model_module": "@jupyter-widgets/controls",
					"model_module_version": "1.5.0",
					"model_name": "HTMLModel",
					"state": {
						"_dom_classes": [],
						"_model_module": "@jupyter-widgets/controls",
						"_model_module_version": "1.5.0",
						"_model_name": "HTMLModel",
						"_view_count": null,
						"_view_module": "@jupyter-widgets/controls",
						"_view_module_version": "1.5.0",
						"_view_name": "HTMLView",
						"description": "",
						"description_tooltip": null,
						"layout": "IPY_MODEL_f82766164d9b470fa03c66f1d34e6c69",
						"placeholder": "​",
						"style": "IPY_MODEL_87e7b009b1db43b6a7db647e052967b4",
						"value": "100%"
					}
				},
				"cbb46801779b4ef186eb2ff0d88120b7": {
					"model_module": "@jupyter-widgets/controls",
					"model_module_version": "1.5.0",
					"model_name": "ProgressStyleModel",
					"state": {
						"_model_module": "@jupyter-widgets/controls",
						"_model_module_version": "1.5.0",
						"_model_name": "ProgressStyleModel",
						"_view_count": null,
						"_view_module": "@jupyter-widgets/base",
						"_view_module_version": "1.2.0",
						"_view_name": "StyleView",
						"bar_color": null,
						"description_width": ""
					}
				},
				"d153dc73d4df4463842686ddbb227ee3": {
					"model_module": "@jupyter-widgets/controls",
					"model_module_version": "1.5.0",
					"model_name": "HBoxModel",
					"state": {
						"_dom_classes": [],
						"_model_module": "@jupyter-widgets/controls",
						"_model_module_version": "1.5.0",
						"_model_name": "HBoxModel",
						"_view_count": null,
						"_view_module": "@jupyter-widgets/controls",
						"_view_module_version": "1.5.0",
						"_view_name": "HBoxView",
						"box_style": "",
						"children": [
							"IPY_MODEL_c827984965ef4612a1d5d138c20de6e9",
							"IPY_MODEL_d52b666da38f42f8896ed3bbd7da956a",
							"IPY_MODEL_ea7860891ec64d28932f08046bdb7a92"
						],
						"layout": "IPY_MODEL_30953452ec8a4d09a553f6bd030a6d27"
					}
				},
				"d52b666da38f42f8896ed3bbd7da956a": {
					"model_module": "@jupyter-widgets/controls",
					"model_module_version": "1.5.0",
					"model_name": "FloatProgressModel",
					"state": {
						"_dom_classes": [],
						"_model_module": "@jupyter-widgets/controls",
						"_model_module_version": "1.5.0",
						"_model_name": "FloatProgressModel",
						"_view_count": null,
						"_view_module": "@jupyter-widgets/controls",
						"_view_module_version": "1.5.0",
						"_view_name": "ProgressView",
						"bar_style": "success",
						"description": "",
						"description_tooltip": null,
						"layout": "IPY_MODEL_c7a0b3360b394c60b8b0f5bce0d72c2b",
						"max": 196,
						"min": 0,
						"orientation": "horizontal",
						"style": "IPY_MODEL_1dda0da631be4a079674aa66ae4f7b69",
						"value": 196
					}
				},
				"d6908f4457ee449da7671c9014048d6c": {
					"model_module": "@jupyter-widgets/controls",
					"model_module_version": "1.5.0",
					"model_name": "ProgressStyleModel",
					"state": {
						"_model_module": "@jupyter-widgets/controls",
						"_model_module_version": "1.5.0",
						"_model_name": "ProgressStyleModel",
						"_view_count": null,
						"_view_module": "@jupyter-widgets/base",
						"_view_module_version": "1.2.0",
						"_view_name": "StyleView",
						"bar_color": null,
						"description_width": ""
					}
				},
				"d9089b10055545839db575146b6aa8c9": {
					"model_module": "@jupyter-widgets/base",
					"model_module_version": "1.2.0",
					"model_name": "LayoutModel",
					"state": {
						"_model_module": "@jupyter-widgets/base",
						"_model_module_version": "1.2.0",
						"_model_name": "LayoutModel",
						"_view_count": null,
						"_view_module": "@jupyter-widgets/base",
						"_view_module_version": "1.2.0",
						"_view_name": "LayoutView",
						"align_content": null,
						"align_items": null,
						"align_self": null,
						"border": null,
						"bottom": null,
						"display": null,
						"flex": null,
						"flex_flow": null,
						"grid_area": null,
						"grid_auto_columns": null,
						"grid_auto_flow": null,
						"grid_auto_rows": null,
						"grid_column": null,
						"grid_gap": null,
						"grid_row": null,
						"grid_template_areas": null,
						"grid_template_columns": null,
						"grid_template_rows": null,
						"height": null,
						"justify_content": null,
						"justify_items": null,
						"left": null,
						"margin": null,
						"max_height": null,
						"max_width": null,
						"min_height": null,
						"min_width": null,
						"object_fit": null,
						"object_position": null,
						"order": null,
						"overflow": null,
						"overflow_x": null,
						"overflow_y": null,
						"padding": null,
						"right": null,
						"top": null,
						"visibility": null,
						"width": null
					}
				},
				"e3c6aaa08d4544038d5f8a18a8695824": {
					"model_module": "@jupyter-widgets/controls",
					"model_module_version": "1.5.0",
					"model_name": "HTMLModel",
					"state": {
						"_dom_classes": [],
						"_model_module": "@jupyter-widgets/controls",
						"_model_module_version": "1.5.0",
						"_model_name": "HTMLModel",
						"_view_count": null,
						"_view_module": "@jupyter-widgets/controls",
						"_view_module_version": "1.5.0",
						"_view_name": "HTMLView",
						"description": "",
						"description_tooltip": null,
						"layout": "IPY_MODEL_f19a4d38898840cfaa218fd3a361de05",
						"placeholder": "​",
						"style": "IPY_MODEL_7f37fbdf0c63401a8aea07acfbc5a98a",
						"value": "100%"
					}
				},
				"e6a8d31b14104404811f5ed4937c38ce": {
					"model_module": "@jupyter-widgets/controls",
					"model_module_version": "1.5.0",
					"model_name": "FloatProgressModel",
					"state": {
						"_dom_classes": [],
						"_model_module": "@jupyter-widgets/controls",
						"_model_module_version": "1.5.0",
						"_model_name": "FloatProgressModel",
						"_view_count": null,
						"_view_module": "@jupyter-widgets/controls",
						"_view_module_version": "1.5.0",
						"_view_name": "ProgressView",
						"bar_style": "success",
						"description": "",
						"description_tooltip": null,
						"layout": "IPY_MODEL_5ce6d13234a44e2bac7d384dce6223ec",
						"max": 170498071,
						"min": 0,
						"orientation": "horizontal",
						"style": "IPY_MODEL_3a121f906d0841fb83e103fc1bb079d0",
						"value": 170498071
					}
				},
				"ea7860891ec64d28932f08046bdb7a92": {
					"model_module": "@jupyter-widgets/controls",
					"model_module_version": "1.5.0",
					"model_name": "HTMLModel",
					"state": {
						"_dom_classes": [],
						"_model_module": "@jupyter-widgets/controls",
						"_model_module_version": "1.5.0",
						"_model_name": "HTMLModel",
						"_view_count": null,
						"_view_module": "@jupyter-widgets/controls",
						"_view_module_version": "1.5.0",
						"_view_name": "HTMLView",
						"description": "",
						"description_tooltip": null,
						"layout": "IPY_MODEL_a4381c7f7d2a4757965495094ebdf711",
						"placeholder": "​",
						"style": "IPY_MODEL_3abc10c85b204a7cba1c0268ff44659e",
						"value": " 196/196 [01:45&lt;00:00,  2.63it/s]"
					}
				},
				"f19a4d38898840cfaa218fd3a361de05": {
					"model_module": "@jupyter-widgets/base",
					"model_module_version": "1.2.0",
					"model_name": "LayoutModel",
					"state": {
						"_model_module": "@jupyter-widgets/base",
						"_model_module_version": "1.2.0",
						"_model_name": "LayoutModel",
						"_view_count": null,
						"_view_module": "@jupyter-widgets/base",
						"_view_module_version": "1.2.0",
						"_view_name": "LayoutView",
						"align_content": null,
						"align_items": null,
						"align_self": null,
						"border": null,
						"bottom": null,
						"display": null,
						"flex": null,
						"flex_flow": null,
						"grid_area": null,
						"grid_auto_columns": null,
						"grid_auto_flow": null,
						"grid_auto_rows": null,
						"grid_column": null,
						"grid_gap": null,
						"grid_row": null,
						"grid_template_areas": null,
						"grid_template_columns": null,
						"grid_template_rows": null,
						"height": null,
						"justify_content": null,
						"justify_items": null,
						"left": null,
						"margin": null,
						"max_height": null,
						"max_width": null,
						"min_height": null,
						"min_width": null,
						"object_fit": null,
						"object_position": null,
						"order": null,
						"overflow": null,
						"overflow_x": null,
						"overflow_y": null,
						"padding": null,
						"right": null,
						"top": null,
						"visibility": null,
						"width": null
					}
				},
				"f42fb8492e0b4885945d5cf378dcd6e3": {
					"model_module": "@jupyter-widgets/controls",
					"model_module_version": "1.5.0",
					"model_name": "DescriptionStyleModel",
					"state": {
						"_model_module": "@jupyter-widgets/controls",
						"_model_module_version": "1.5.0",
						"_model_name": "DescriptionStyleModel",
						"_view_count": null,
						"_view_module": "@jupyter-widgets/base",
						"_view_module_version": "1.2.0",
						"_view_name": "StyleView",
						"description_width": ""
					}
				},
				"f82766164d9b470fa03c66f1d34e6c69": {
					"model_module": "@jupyter-widgets/base",
					"model_module_version": "1.2.0",
					"model_name": "LayoutModel",
					"state": {
						"_model_module": "@jupyter-widgets/base",
						"_model_module_version": "1.2.0",
						"_model_name": "LayoutModel",
						"_view_count": null,
						"_view_module": "@jupyter-widgets/base",
						"_view_module_version": "1.2.0",
						"_view_name": "LayoutView",
						"align_content": null,
						"align_items": null,
						"align_self": null,
						"border": null,
						"bottom": null,
						"display": null,
						"flex": null,
						"flex_flow": null,
						"grid_area": null,
						"grid_auto_columns": null,
						"grid_auto_flow": null,
						"grid_auto_rows": null,
						"grid_column": null,
						"grid_gap": null,
						"grid_row": null,
						"grid_template_areas": null,
						"grid_template_columns": null,
						"grid_template_rows": null,
						"height": null,
						"justify_content": null,
						"justify_items": null,
						"left": null,
						"margin": null,
						"max_height": null,
						"max_width": null,
						"min_height": null,
						"min_width": null,
						"object_fit": null,
						"object_position": null,
						"order": null,
						"overflow": null,
						"overflow_x": null,
						"overflow_y": null,
						"padding": null,
						"right": null,
						"top": null,
						"visibility": null,
						"width": null
					}
				},
				"faa46515785b4e34b584082dbafb26ac": {
					"model_module": "@jupyter-widgets/controls",
					"model_module_version": "1.5.0",
					"model_name": "HBoxModel",
					"state": {
						"_dom_classes": [],
						"_model_module": "@jupyter-widgets/controls",
						"_model_module_version": "1.5.0",
						"_model_name": "HBoxModel",
						"_view_count": null,
						"_view_module": "@jupyter-widgets/controls",
						"_view_module_version": "1.5.0",
						"_view_name": "HBoxView",
						"box_style": "",
						"children": [
							"IPY_MODEL_a5bb0fb882d241ae85db6e5d16677d7e",
							"IPY_MODEL_4e4192ec8f4c4d7183e76b37b506d5ab",
							"IPY_MODEL_850bf79cb47a418ba4be814b84f506c7"
						],
						"layout": "IPY_MODEL_94368ef5b77b4ca8bf493f8454cd386a"
					}
				}
			}
		}
	},
	"nbformat": 4,
	"nbformat_minor": 4
}
